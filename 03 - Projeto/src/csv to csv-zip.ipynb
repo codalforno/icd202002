{
 "cells": [
  {
   "cell_type": "markdown",
   "metadata": {},
   "source": [
    "# Pre-processamento dados SUS"
   ]
  },
  {
   "cell_type": "code",
   "execution_count": 1,
   "metadata": {},
   "outputs": [],
   "source": [
    "import pandas as pd\n",
    "import numpy as np\n",
    "import os\n",
    "import matplotlib.pyplot as plt\n",
    "import seaborn as sns\n",
    "from scipy import stats\n",
    "%matplotlib inline"
   ]
  },
  {
   "cell_type": "code",
   "execution_count": 2,
   "metadata": {},
   "outputs": [],
   "source": [
    "pd.set_option('display.max_columns', None)"
   ]
  },
  {
   "cell_type": "markdown",
   "metadata": {},
   "source": [
    "Carregando dados do CSV e configurações para salvar"
   ]
  },
  {
   "cell_type": "code",
   "execution_count": 8,
   "metadata": {},
   "outputs": [],
   "source": [
    "## Nome dos paths onse estão salvos e vamos salvar os dados processados\n",
    "PATH_DADOS = '../dados/e_sus/csv2csv_zip/' # Nome do path dos arquivos salvos\n",
    "PATH_DADOS_PROCESSADOS = '../dados/e_sus_processados/' # Nome do path a salvar os arquivos\n",
    "FILENAME_PROCESSADOS = 'pb_sus_processados.csv' # Nome do arquivo aonde vamos salvar o arquivo\n"
   ]
  },
  {
   "cell_type": "code",
   "execution_count": 6,
   "metadata": {},
   "outputs": [],
   "source": [
    "files = os.listdir(PATH_DADOS)"
   ]
  },
  {
   "cell_type": "code",
   "execution_count": 9,
   "metadata": {},
   "outputs": [
    {
     "name": "stdout",
     "output_type": "stream",
     "text": [
      "Processado csv : es_sus_processados.csv\n",
      "Processado csv : rj_sus_processados.csv\n",
      "Processado csv : mg_sus_processados.csv\n",
      "Processado csv : sc_sus_processados.csv\n",
      "Processado csv : pe_sus_processados.csv\n",
      "Processado csv : ro_sus_processados.csv\n",
      "Processado csv : pi_sus_processados.csv\n",
      "Processado csv : se_sus_processados.csv\n",
      "Processado csv : go_sus_processados.csv\n",
      "Processado csv : rn_sus_processados.csv\n",
      "Processado csv : pr_sus_processados.csv\n",
      "Processado csv : pa_sus_processados.csv\n",
      "Processado csv : am_sus_processados.csv\n",
      "Processado csv : al_sus_processados.csv\n",
      "Processado csv : ac_sus_processados.csv\n",
      "Processado csv : mt_sus_processados.csv\n",
      "Processado csv : ce_sus_processados.csv\n",
      "Processado csv : to_sus_processados.csv\n",
      "Processado csv : rs_sus_processados.csv\n"
     ]
    }
   ],
   "source": [
    "for file in files:\n",
    "    dfLoad = pd.read_csv(PATH_DADOS + file, sep=';', encoding='utf-8')\n",
    "    dfLoad.to_csv(PATH_DADOS_PROCESSADOS + file, sep=';', encoding='utf-8', compression='zip')\n",
    "    print(f'Processado csv : {file}')"
   ]
  }
 ],
 "metadata": {
  "kernelspec": {
   "display_name": "Python 3",
   "language": "python",
   "name": "python3"
  },
  "language_info": {
   "codemirror_mode": {
    "name": "ipython",
    "version": 3
   },
   "file_extension": ".py",
   "mimetype": "text/x-python",
   "name": "python",
   "nbconvert_exporter": "python",
   "pygments_lexer": "ipython3",
   "version": "3.8.5"
  }
 },
 "nbformat": 4,
 "nbformat_minor": 4
}
