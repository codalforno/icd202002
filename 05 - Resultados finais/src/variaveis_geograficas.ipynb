{
 "cells": [
  {
   "cell_type": "markdown",
   "metadata": {},
   "source": [
    "# Dados geográficos \n",
    "\n",
    "Nesse notebook, é realizada a limpeza dos dados geográficos das cidades. O intuito é ter uma base dos municipios que tem no Brasil, com informações como a densidade populacional, população estimada, área geográfica, localização geográfica e división por estados e regiões."
   ]
  },
  {
   "cell_type": "code",
   "execution_count": 3,
   "metadata": {},
   "outputs": [],
   "source": [
    "import pandas as pd\n",
    "import numpy as np\n",
    "import os\n",
    "import matplotlib.pyplot as plt\n",
    "import seaborn as sns\n",
    "from scipy import stats\n",
    "%matplotlib inline"
   ]
  },
  {
   "cell_type": "markdown",
   "metadata": {},
   "source": [
    "## Dataframe Localização Geográfica\n",
    "\n",
    "O primeiro dataframe a ser utilizado é a base com a latitude e longitude dos municipios brasileiros. Os dados são normalizados, criando uma coluna que elimina acentos e grafias diferentes.\n"
   ]
  },
  {
   "cell_type": "code",
   "execution_count": 4,
   "metadata": {},
   "outputs": [],
   "source": [
    "PATH_MUNICIPIOS = '../dados/municipios/municipios.csv'\n",
    "dfMunicipios = pd.read_csv(PATH_MUNICIPIOS, sep = ',', encoding = 'utf-8')\n",
    "dfMunicipios['codigo_ibge'] = dfMunicipios['codigo_ibge'].astype(str)\n",
    "dfMunicipios['municipioNormalizado'] = dfMunicipios['nome'].str.normalize('NFKD').str.encode('ascii', errors='ignore').str.decode('utf-8').str.lower()"
   ]
  },
  {
   "cell_type": "code",
   "execution_count": 5,
   "metadata": {},
   "outputs": [
    {
     "data": {
      "text/html": [
       "<div>\n",
       "<style scoped>\n",
       "    .dataframe tbody tr th:only-of-type {\n",
       "        vertical-align: middle;\n",
       "    }\n",
       "\n",
       "    .dataframe tbody tr th {\n",
       "        vertical-align: top;\n",
       "    }\n",
       "\n",
       "    .dataframe thead th {\n",
       "        text-align: right;\n",
       "    }\n",
       "</style>\n",
       "<table border=\"1\" class=\"dataframe\">\n",
       "  <thead>\n",
       "    <tr style=\"text-align: right;\">\n",
       "      <th></th>\n",
       "      <th>codigo_ibge</th>\n",
       "      <th>nome</th>\n",
       "      <th>latitude</th>\n",
       "      <th>longitude</th>\n",
       "      <th>capital</th>\n",
       "      <th>codigo_uf</th>\n",
       "      <th>municipioNormalizado</th>\n",
       "    </tr>\n",
       "  </thead>\n",
       "  <tbody>\n",
       "    <tr>\n",
       "      <th>0</th>\n",
       "      <td>5200050</td>\n",
       "      <td>Abadia de Goiás</td>\n",
       "      <td>-16.75730</td>\n",
       "      <td>-49.4412</td>\n",
       "      <td>0</td>\n",
       "      <td>52</td>\n",
       "      <td>abadia de goias</td>\n",
       "    </tr>\n",
       "    <tr>\n",
       "      <th>1</th>\n",
       "      <td>3100104</td>\n",
       "      <td>Abadia dos Dourados</td>\n",
       "      <td>-18.48310</td>\n",
       "      <td>-47.3916</td>\n",
       "      <td>0</td>\n",
       "      <td>31</td>\n",
       "      <td>abadia dos dourados</td>\n",
       "    </tr>\n",
       "    <tr>\n",
       "      <th>2</th>\n",
       "      <td>5200100</td>\n",
       "      <td>Abadiânia</td>\n",
       "      <td>-16.19700</td>\n",
       "      <td>-48.7057</td>\n",
       "      <td>0</td>\n",
       "      <td>52</td>\n",
       "      <td>abadiania</td>\n",
       "    </tr>\n",
       "    <tr>\n",
       "      <th>3</th>\n",
       "      <td>3100203</td>\n",
       "      <td>Abaeté</td>\n",
       "      <td>-19.15510</td>\n",
       "      <td>-45.4444</td>\n",
       "      <td>0</td>\n",
       "      <td>31</td>\n",
       "      <td>abaete</td>\n",
       "    </tr>\n",
       "    <tr>\n",
       "      <th>4</th>\n",
       "      <td>1500107</td>\n",
       "      <td>Abaetetuba</td>\n",
       "      <td>-1.72183</td>\n",
       "      <td>-48.8788</td>\n",
       "      <td>0</td>\n",
       "      <td>15</td>\n",
       "      <td>abaetetuba</td>\n",
       "    </tr>\n",
       "  </tbody>\n",
       "</table>\n",
       "</div>"
      ],
      "text/plain": [
       "  codigo_ibge                 nome  latitude  longitude  capital  codigo_uf  \\\n",
       "0     5200050      Abadia de Goiás -16.75730   -49.4412        0         52   \n",
       "1     3100104  Abadia dos Dourados -18.48310   -47.3916        0         31   \n",
       "2     5200100            Abadiânia -16.19700   -48.7057        0         52   \n",
       "3     3100203               Abaeté -19.15510   -45.4444        0         31   \n",
       "4     1500107           Abaetetuba  -1.72183   -48.8788        0         15   \n",
       "\n",
       "  municipioNormalizado  \n",
       "0      abadia de goias  \n",
       "1  abadia dos dourados  \n",
       "2            abadiania  \n",
       "3               abaete  \n",
       "4           abaetetuba  "
      ]
     },
     "execution_count": 5,
     "metadata": {},
     "output_type": "execute_result"
    }
   ],
   "source": [
    "dfMunicipios.head(5)"
   ]
  },
  {
   "cell_type": "markdown",
   "metadata": {},
   "source": [
    "# Dataframe Estimativa populacional\n",
    "\n",
    "O próximo dataframe é a estimativa populacional para todos os municípios brasileiros no ano 2020"
   ]
  },
  {
   "cell_type": "code",
   "execution_count": 6,
   "metadata": {},
   "outputs": [],
   "source": [
    "PATH_POPULACAO = '../dados/municipios/estimativa_populacao_2020.csv'\n",
    "dfPopulacao = pd.read_csv(PATH_POPULACAO, sep = ',', encoding = 'utf-8')\n",
    "dfPopulacao = dfPopulacao.rename(columns={'UF': 'uf', 'COD. UF': 'cod_uf', 'COD. MUNIC': 'cod_mun', 'NOME DO MUNICÍPIO': 'nome_mun', 'POPULAÇÃO ESTIMADA': 'populacao_estimada'})\n",
    "dfPopulacao['codigo_ibge'] = dfPopulacao['cod_uf'].astype(str) + dfPopulacao['cod_mun'].astype(str).str.zfill(5)"
   ]
  },
  {
   "cell_type": "code",
   "execution_count": 7,
   "metadata": {},
   "outputs": [
    {
     "data": {
      "text/html": [
       "<div>\n",
       "<style scoped>\n",
       "    .dataframe tbody tr th:only-of-type {\n",
       "        vertical-align: middle;\n",
       "    }\n",
       "\n",
       "    .dataframe tbody tr th {\n",
       "        vertical-align: top;\n",
       "    }\n",
       "\n",
       "    .dataframe thead th {\n",
       "        text-align: right;\n",
       "    }\n",
       "</style>\n",
       "<table border=\"1\" class=\"dataframe\">\n",
       "  <thead>\n",
       "    <tr style=\"text-align: right;\">\n",
       "      <th></th>\n",
       "      <th>uf</th>\n",
       "      <th>cod_uf</th>\n",
       "      <th>cod_mun</th>\n",
       "      <th>nome_mun</th>\n",
       "      <th>populacao_estimada</th>\n",
       "      <th>codigo_ibge</th>\n",
       "    </tr>\n",
       "  </thead>\n",
       "  <tbody>\n",
       "    <tr>\n",
       "      <th>0</th>\n",
       "      <td>RO</td>\n",
       "      <td>11</td>\n",
       "      <td>15</td>\n",
       "      <td>'Alta Floresta D''Oeste'</td>\n",
       "      <td>22728</td>\n",
       "      <td>1100015</td>\n",
       "    </tr>\n",
       "    <tr>\n",
       "      <th>1</th>\n",
       "      <td>RO</td>\n",
       "      <td>11</td>\n",
       "      <td>23</td>\n",
       "      <td>Ariquemes</td>\n",
       "      <td>109523</td>\n",
       "      <td>1100023</td>\n",
       "    </tr>\n",
       "    <tr>\n",
       "      <th>2</th>\n",
       "      <td>RO</td>\n",
       "      <td>11</td>\n",
       "      <td>31</td>\n",
       "      <td>Cabixi</td>\n",
       "      <td>5188</td>\n",
       "      <td>1100031</td>\n",
       "    </tr>\n",
       "    <tr>\n",
       "      <th>3</th>\n",
       "      <td>RO</td>\n",
       "      <td>11</td>\n",
       "      <td>49</td>\n",
       "      <td>Cacoal</td>\n",
       "      <td>85893</td>\n",
       "      <td>1100049</td>\n",
       "    </tr>\n",
       "    <tr>\n",
       "      <th>4</th>\n",
       "      <td>RO</td>\n",
       "      <td>11</td>\n",
       "      <td>56</td>\n",
       "      <td>Cerejeiras</td>\n",
       "      <td>16204</td>\n",
       "      <td>1100056</td>\n",
       "    </tr>\n",
       "  </tbody>\n",
       "</table>\n",
       "</div>"
      ],
      "text/plain": [
       "   uf  cod_uf  cod_mun                  nome_mun  populacao_estimada  \\\n",
       "0  RO      11       15  'Alta Floresta D''Oeste'               22728   \n",
       "1  RO      11       23                 Ariquemes              109523   \n",
       "2  RO      11       31                    Cabixi                5188   \n",
       "3  RO      11       49                    Cacoal               85893   \n",
       "4  RO      11       56                Cerejeiras               16204   \n",
       "\n",
       "  codigo_ibge  \n",
       "0     1100015  \n",
       "1     1100023  \n",
       "2     1100031  \n",
       "3     1100049  \n",
       "4     1100056  "
      ]
     },
     "execution_count": 7,
     "metadata": {},
     "output_type": "execute_result"
    }
   ],
   "source": [
    "dfPopulacao.head(5)"
   ]
  },
  {
   "cell_type": "markdown",
   "metadata": {},
   "source": [
    "# Dataframe Área dos municípios\n",
    "\n",
    "finalmente, o último dataframe contém a área dos municípios do Brasil. A área calculada está em km². "
   ]
  },
  {
   "cell_type": "code",
   "execution_count": 25,
   "metadata": {},
   "outputs": [],
   "source": [
    "PATH_AREA = '../dados/municipios/area.csv'\n",
    "dfArea = pd.read_csv(PATH_AREA, sep = ';', encoding = 'utf-8')\n",
    "dfArea = dfArea.rename(columns={'NM_UF_SIGLA': 'uf', 'CD_GCUF': 'cod_uf', 'CD_GCMUN': 'codigo_ibge', 'NM_MUN_2019': 'nome_mun', 'AR_MUN_2019': 'area_mun', 'NM_UF': 'estado'})\n",
    "dfArea = dfArea.drop(columns = ['ID', 'cod_uf', 'uf', 'nome_mun'])\n",
    "dfArea['codigo_ibge'] = dfArea['codigo_ibge'].astype(str)\n",
    "dfArea['area_mun'] = dfArea['area_mun'].str.replace(',', '.').astype(float)\n",
    "# dfArea['codigo_ibge'] = dfArea['cod_uf'].astype(str) + dfArea['cod_mun'].astype(str).str.zfill(5)"
   ]
  },
  {
   "cell_type": "code",
   "execution_count": 15,
   "metadata": {},
   "outputs": [
    {
     "data": {
      "text/html": [
       "<div>\n",
       "<style scoped>\n",
       "    .dataframe tbody tr th:only-of-type {\n",
       "        vertical-align: middle;\n",
       "    }\n",
       "\n",
       "    .dataframe tbody tr th {\n",
       "        vertical-align: top;\n",
       "    }\n",
       "\n",
       "    .dataframe thead th {\n",
       "        text-align: right;\n",
       "    }\n",
       "</style>\n",
       "<table border=\"1\" class=\"dataframe\">\n",
       "  <thead>\n",
       "    <tr style=\"text-align: right;\">\n",
       "      <th></th>\n",
       "      <th>estado</th>\n",
       "      <th>codigo_ibge</th>\n",
       "      <th>area_mun</th>\n",
       "    </tr>\n",
       "  </thead>\n",
       "  <tbody>\n",
       "    <tr>\n",
       "      <th>0</th>\n",
       "      <td>Rondônia</td>\n",
       "      <td>1100015</td>\n",
       "      <td>7067.025</td>\n",
       "    </tr>\n",
       "    <tr>\n",
       "      <th>1</th>\n",
       "      <td>Rondônia</td>\n",
       "      <td>1100023</td>\n",
       "      <td>4426.571</td>\n",
       "    </tr>\n",
       "    <tr>\n",
       "      <th>2</th>\n",
       "      <td>Rondônia</td>\n",
       "      <td>1100031</td>\n",
       "      <td>1314.352</td>\n",
       "    </tr>\n",
       "    <tr>\n",
       "      <th>3</th>\n",
       "      <td>Rondônia</td>\n",
       "      <td>1100049</td>\n",
       "      <td>3792.892</td>\n",
       "    </tr>\n",
       "    <tr>\n",
       "      <th>4</th>\n",
       "      <td>Rondônia</td>\n",
       "      <td>1100056</td>\n",
       "      <td>2783.300</td>\n",
       "    </tr>\n",
       "  </tbody>\n",
       "</table>\n",
       "</div>"
      ],
      "text/plain": [
       "     estado codigo_ibge  area_mun\n",
       "0  Rondônia     1100015  7067.025\n",
       "1  Rondônia     1100023  4426.571\n",
       "2  Rondônia     1100031  1314.352\n",
       "3  Rondônia     1100049  3792.892\n",
       "4  Rondônia     1100056  2783.300"
      ]
     },
     "execution_count": 15,
     "metadata": {},
     "output_type": "execute_result"
    }
   ],
   "source": [
    "dfArea.head(5)"
   ]
  },
  {
   "cell_type": "code",
   "execution_count": 26,
   "metadata": {},
   "outputs": [],
   "source": [
    "dfFinal = dfMunicipios.merge(dfPopulacao, on = 'codigo_ibge', how='inner').merge(dfArea, on = 'codigo_ibge', how='inner')\n",
    "dfFinal = dfFinal.drop(columns=['nome_mun', 'cod_mun', 'cod_uf'])\n",
    "dfFinal['densidade_populacional'] = dfFinal['populacao_estimada'] / dfFinal['area_mun']"
   ]
  },
  {
   "cell_type": "code",
   "execution_count": 27,
   "metadata": {},
   "outputs": [],
   "source": [
    "PATH_TOWRITE = '../dados/municipios/municipios_processada.csv' \n",
    "dfFinal.to_csv(PATH_TOWRITE, sep=';', encoding='utf-8')"
   ]
  }
 ],
 "metadata": {
  "kernelspec": {
   "display_name": "Python 3",
   "language": "python",
   "name": "python3"
  },
  "language_info": {
   "codemirror_mode": {
    "name": "ipython",
    "version": 3
   },
   "file_extension": ".py",
   "mimetype": "text/x-python",
   "name": "python",
   "nbconvert_exporter": "python",
   "pygments_lexer": "ipython3",
   "version": "3.8.3"
  }
 },
 "nbformat": 4,
 "nbformat_minor": 4
}
