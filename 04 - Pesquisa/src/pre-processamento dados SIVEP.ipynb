{
 "cells": [
  {
   "cell_type": "markdown",
   "metadata": {},
   "source": [
    "## Preprocessamento e filtragem dos dados"
   ]
  },
  {
   "cell_type": "code",
   "execution_count": 4,
   "metadata": {},
   "outputs": [],
   "source": [
    "import pandas as pd\n",
    "import numpy as np\n",
    "import matplotlib.pyplot as plt\n",
    "import os.path\n",
    "%matplotlib inline"
   ]
  },
  {
   "cell_type": "markdown",
   "metadata": {},
   "source": [
    "Função para o processamento dos dados"
   ]
  },
  {
   "cell_type": "code",
   "execution_count": 5,
   "metadata": {},
   "outputs": [],
   "source": [
    "DATA_PATH = '../dados/processados/influd_processado.csv'\n",
    "\n",
    "def preprocess_data(path):\n",
    "    df = pd.read_csv(path, sep=';', encoding='latin-1')\n",
    "    #filtrando as colunas relevantes para a nossa pesquisa\n",
    "    df_filtrado = df[df.CLASSI_FIN == 5] # Selecionando os casos com o teste positivo para COVID-19\n",
    "    \n",
    "    selecao = ['ï»¿DT_NOTIFIC', 'SEM_NOT', 'SG_UF_NOT', 'ID_MUNICIP', 'CO_MUN_NOT', 'CS_SEXO', \n",
    "                'NU_IDADE_N', 'CS_RACA', 'CS_ESCOL_N'] # Colunas relevantes para a pesquisa\n",
    "    df_covid = df[selecao]\n",
    "    \n",
    "    df_covid.rename(columns={'ï»¿DT_NOTIFIC':'DT_NOTIFIC'}, inplace=True)\n",
    "    \n",
    "    df_covid['DT_NOTIFIC'] = pd.to_datetime(df_covid['DT_NOTIFIC'], format='%d/%m/%Y') #Transformando a data para o formato adequado\n",
    "    \n",
    "    df_covid.to_csv(DATA_PATH, index=False)"
   ]
  },
  {
   "cell_type": "markdown",
   "metadata": {},
   "source": [
    "lê o arquivo processado e exibe"
   ]
  },
  {
   "cell_type": "code",
   "execution_count": 6,
   "metadata": {},
   "outputs": [
    {
     "name": "stderr",
     "output_type": "stream",
     "text": [
      "C:\\Users\\Guilherme\\anaconda3\\lib\\site-packages\\pandas\\core\\frame.py:4125: SettingWithCopyWarning: \n",
      "A value is trying to be set on a copy of a slice from a DataFrame\n",
      "\n",
      "See the caveats in the documentation: https://pandas.pydata.org/pandas-docs/stable/user_guide/indexing.html#returning-a-view-versus-a-copy\n",
      "  return super().rename(\n",
      "<ipython-input-5-29361149eb46>:14: SettingWithCopyWarning: \n",
      "A value is trying to be set on a copy of a slice from a DataFrame.\n",
      "Try using .loc[row_indexer,col_indexer] = value instead\n",
      "\n",
      "See the caveats in the documentation: https://pandas.pydata.org/pandas-docs/stable/user_guide/indexing.html#returning-a-view-versus-a-copy\n",
      "  df_covid['DT_NOTIFIC'] = pd.to_datetime(df_covid['DT_NOTIFIC'], format='%d/%m/%Y') #Transformando a data para o formato adequado\n"
     ]
    },
    {
     "data": {
      "text/html": [
       "<div>\n",
       "<style scoped>\n",
       "    .dataframe tbody tr th:only-of-type {\n",
       "        vertical-align: middle;\n",
       "    }\n",
       "\n",
       "    .dataframe tbody tr th {\n",
       "        vertical-align: top;\n",
       "    }\n",
       "\n",
       "    .dataframe thead th {\n",
       "        text-align: right;\n",
       "    }\n",
       "</style>\n",
       "<table border=\"1\" class=\"dataframe\">\n",
       "  <thead>\n",
       "    <tr style=\"text-align: right;\">\n",
       "      <th></th>\n",
       "      <th>DT_NOTIFIC</th>\n",
       "      <th>SEM_NOT</th>\n",
       "      <th>SG_UF_NOT</th>\n",
       "      <th>ID_MUNICIP</th>\n",
       "      <th>CO_MUN_NOT</th>\n",
       "      <th>CS_SEXO</th>\n",
       "      <th>NU_IDADE_N</th>\n",
       "      <th>CS_RACA</th>\n",
       "      <th>CS_ESCOL_N</th>\n",
       "    </tr>\n",
       "  </thead>\n",
       "  <tbody>\n",
       "    <tr>\n",
       "      <th>0</th>\n",
       "      <td>2019-12-30</td>\n",
       "      <td>1</td>\n",
       "      <td>SP</td>\n",
       "      <td>CATANDUVA</td>\n",
       "      <td>351110</td>\n",
       "      <td>F</td>\n",
       "      <td>52</td>\n",
       "      <td>NaN</td>\n",
       "      <td>NaN</td>\n",
       "    </tr>\n",
       "    <tr>\n",
       "      <th>1</th>\n",
       "      <td>2019-12-31</td>\n",
       "      <td>1</td>\n",
       "      <td>RS</td>\n",
       "      <td>VACARIA</td>\n",
       "      <td>432250</td>\n",
       "      <td>F</td>\n",
       "      <td>19</td>\n",
       "      <td>2.0</td>\n",
       "      <td>2.0</td>\n",
       "    </tr>\n",
       "    <tr>\n",
       "      <th>2</th>\n",
       "      <td>2020-01-02</td>\n",
       "      <td>1</td>\n",
       "      <td>SP</td>\n",
       "      <td>SAO PAULO</td>\n",
       "      <td>355030</td>\n",
       "      <td>M</td>\n",
       "      <td>7</td>\n",
       "      <td>NaN</td>\n",
       "      <td>5.0</td>\n",
       "    </tr>\n",
       "    <tr>\n",
       "      <th>3</th>\n",
       "      <td>2019-12-31</td>\n",
       "      <td>1</td>\n",
       "      <td>PR</td>\n",
       "      <td>FOZ DO IGUACU</td>\n",
       "      <td>410830</td>\n",
       "      <td>M</td>\n",
       "      <td>2</td>\n",
       "      <td>2.0</td>\n",
       "      <td>5.0</td>\n",
       "    </tr>\n",
       "    <tr>\n",
       "      <th>4</th>\n",
       "      <td>2020-01-02</td>\n",
       "      <td>1</td>\n",
       "      <td>PR</td>\n",
       "      <td>FOZ DO IGUACU</td>\n",
       "      <td>410830</td>\n",
       "      <td>F</td>\n",
       "      <td>5</td>\n",
       "      <td>1.0</td>\n",
       "      <td>5.0</td>\n",
       "    </tr>\n",
       "  </tbody>\n",
       "</table>\n",
       "</div>"
      ],
      "text/plain": [
       "   DT_NOTIFIC  SEM_NOT SG_UF_NOT     ID_MUNICIP  CO_MUN_NOT CS_SEXO  \\\n",
       "0  2019-12-30        1        SP      CATANDUVA      351110       F   \n",
       "1  2019-12-31        1        RS        VACARIA      432250       F   \n",
       "2  2020-01-02        1        SP      SAO PAULO      355030       M   \n",
       "3  2019-12-31        1        PR  FOZ DO IGUACU      410830       M   \n",
       "4  2020-01-02        1        PR  FOZ DO IGUACU      410830       F   \n",
       "\n",
       "   NU_IDADE_N  CS_RACA  CS_ESCOL_N  \n",
       "0          52      NaN         NaN  \n",
       "1          19      2.0         2.0  \n",
       "2           7      NaN         5.0  \n",
       "3           2      2.0         5.0  \n",
       "4           5      1.0         5.0  "
      ]
     },
     "execution_count": 6,
     "metadata": {},
     "output_type": "execute_result"
    }
   ],
   "source": [
    "REPROCESSAR = True\n",
    "if (not os.path.exists(DATA_PATH) or REPROCESSAR): # Verifica se já existe um arquivo processado\n",
    "    preprocess_data('../dados/sivep/influd.csv')\n",
    "    \n",
    "df_proc = pd.read_csv(DATA_PATH, sep=',', encoding='latin-1')\n",
    "\n",
    "# Configurando o pandas para mostrar todas as colunas do dataframe\n",
    "pd.set_option('display.max_columns', None)\n",
    "pd.set_option('display.max_rows', 200)\n",
    "df_proc.head()"
   ]
  },
  {
   "cell_type": "code",
   "execution_count": null,
   "metadata": {},
   "outputs": [],
   "source": []
  }
 ],
 "metadata": {
  "kernelspec": {
   "display_name": "Python 3",
   "language": "python",
   "name": "python3"
  },
  "language_info": {
   "codemirror_mode": {
    "name": "ipython",
    "version": 3
   },
   "file_extension": ".py",
   "mimetype": "text/x-python",
   "name": "python",
   "nbconvert_exporter": "python",
   "pygments_lexer": "ipython3",
   "version": "3.8.3"
  }
 },
 "nbformat": 4,
 "nbformat_minor": 4
}
