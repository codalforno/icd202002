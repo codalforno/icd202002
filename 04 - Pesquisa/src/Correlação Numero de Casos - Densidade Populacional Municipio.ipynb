{
 "cells": [
  {
   "cell_type": "code",
   "execution_count": 3,
   "metadata": {},
   "outputs": [],
   "source": [
    "import pandas as pd\n",
    "import numpy as np\n",
    "import os\n",
    "import matplotlib.pyplot as plt\n",
    "import seaborn as sns\n",
    "from scipy import stats\n",
    "from sklearn.cluster import KMeans\n",
    "from mpl_toolkits.mplot3d import Axes3D\n",
    "%matplotlib inline"
   ]
  },
  {
   "cell_type": "code",
   "execution_count": 4,
   "metadata": {},
   "outputs": [
    {
     "ename": "FileNotFoundError",
     "evalue": "[Errno 2] No such file or directory: '../dados/e_sus_processados/'",
     "output_type": "error",
     "traceback": [
      "\u001b[0;31m---------------------------------------------------------------------------\u001b[0m",
      "\u001b[0;31mFileNotFoundError\u001b[0m                         Traceback (most recent call last)",
      "\u001b[0;32m<ipython-input-4-d292768e286e>\u001b[0m in \u001b[0;36m<module>\u001b[0;34m\u001b[0m\n\u001b[1;32m      6\u001b[0m \u001b[0mPATH_FIGURAS\u001b[0m \u001b[0;34m=\u001b[0m \u001b[0;34m'../figure/'\u001b[0m\u001b[0;34m\u001b[0m\u001b[0;34m\u001b[0m\u001b[0m\n\u001b[1;32m      7\u001b[0m \u001b[0;34m\u001b[0m\u001b[0m\n\u001b[0;32m----> 8\u001b[0;31m \u001b[0mFILES_ESTADOS\u001b[0m \u001b[0;34m=\u001b[0m \u001b[0mos\u001b[0m\u001b[0;34m.\u001b[0m\u001b[0mlistdir\u001b[0m\u001b[0;34m(\u001b[0m\u001b[0mPATH_DADOS_PROCESSADOS\u001b[0m\u001b[0;34m)\u001b[0m\u001b[0;34m\u001b[0m\u001b[0;34m\u001b[0m\u001b[0m\n\u001b[0m\u001b[1;32m      9\u001b[0m \u001b[0mFILENAME_FAIXA_ETARIAS\u001b[0m \u001b[0;34m=\u001b[0m \u001b[0;34m'faixa_etaria_processada.csv'\u001b[0m\u001b[0;34m\u001b[0m\u001b[0;34m\u001b[0m\u001b[0m\n\u001b[1;32m     10\u001b[0m \u001b[0mFILENAME_MUNICIPIOS\u001b[0m \u001b[0;34m=\u001b[0m \u001b[0;34m'municipios_processada.csv'\u001b[0m\u001b[0;34m\u001b[0m\u001b[0;34m\u001b[0m\u001b[0m\n",
      "\u001b[0;31mFileNotFoundError\u001b[0m: [Errno 2] No such file or directory: '../dados/e_sus_processados/'"
     ]
    }
   ],
   "source": [
    "## Nome dos paths onse estão salvos e vamos salvar os dados processados\n",
    "PATH_FAIXA_ETARIAS = '../dados/faixa_etaria/' # Nome do path dos arquivos salvos\n",
    "PATH_DADOS_PROCESSADOS = '../dados/e_sus_processados/' # Nome do path a salvar os arquivos\n",
    "PATH_MUNICIPIOS = '../dados/processados/'\n",
    "PATH_ESTADO = '../dados/municipios/'\n",
    "PATH_FIGURAS = '../figure/'\n",
    "\n",
    "FILES_ESTADOS = os.listdir(PATH_DADOS_PROCESSADOS)\n",
    "FILENAME_FAIXA_ETARIAS = 'faixa_etaria_processada.csv'\n",
    "FILENAME_MUNICIPIOS = 'municipios_processada.csv'\n",
    "FILENAME_ESTADO = 'estados_processada.csv'\n",
    "\n",
    "dfMunicipios_d = pd.read_csv(PATH_MUNICIPIOS + FILENAME_MUNICIPIOS, encoding='utf-8', delimiter=';')\n",
    "dfFE = pd.read_csv(PATH_FAIXA_ETARIAS + FILENAME_FAIXA_ETARIAS, encoding='utf-8', delimiter=';')\n",
    "dfEstado_d = pd.read_csv(PATH_ESTADO + FILENAME_ESTADO, encoding='utf-8', delimiter=';')\n",
    "\n",
    "cols = ['dataNotificacao', 'sexo', 'idade', 'estado_normalizado', 'municipio_normalizado', 'extractDate', 'idadeTrunc']\n",
    "\n",
    "dflist = []\n",
    "\n",
    "for file in FILES_ESTADOS:\n",
    "    dfLoad = pd.read_csv(PATH_DADOS_PROCESSADOS + file, encoding='utf-8', delimiter=';', compression='zip')\n",
    "    dfLoad = dfLoad[[c for c in dfLoad.columns if c in cols]]\n",
    "    dflist.append(dfLoad.copy())\n",
    "    \n",
    "    print(f'Lido csv {file}')\n",
    "\n",
    "dfProc = pd.concat(dflist).dropna(how='any',axis=0)"
   ]
  },
  {
   "cell_type": "code",
   "execution_count": null,
   "metadata": {},
   "outputs": [],
   "source": [
    "dfProc.count()"
   ]
  },
  {
   "cell_type": "markdown",
   "metadata": {},
   "source": [
    "A base com a populacao dividida em faixa etária é tratada para que numa mesma coluna fiquem o população total, segmentada pelo estado e pela faixa etária a qual pertencem"
   ]
  },
  {
   "cell_type": "code",
   "execution_count": null,
   "metadata": {},
   "outputs": [],
   "source": [
    "###################\n",
    "# dfEstado\n",
    "###################\n",
    "\n",
    "cols_sel = ['uf', \n",
    "            'estado_normalizado']\n",
    "dfEstado = dfEstado_d.reset_index()\n",
    "dfEstado = dfEstado[cols_sel].set_index('uf')\n",
    "dfEstado"
   ]
  },
  {
   "cell_type": "code",
   "execution_count": null,
   "metadata": {},
   "outputs": [],
   "source": [
    "###################\n",
    "# df dos Municipios\n",
    "###################\n",
    "\n",
    "cols_sel = ['codigo_ibge', \n",
    "            'municipioNormalizado', \n",
    "            'codigo_uf', \n",
    "            'uf', \n",
    "            'estado', \n",
    "            'densidade_populacional', \n",
    "            'area_mun', \n",
    "            'populacao_estimada']\n",
    "dfMunicipios = dfMunicipios_d[cols_sel].set_index('uf')"
   ]
  },
  {
   "cell_type": "code",
   "execution_count": null,
   "metadata": {},
   "outputs": [],
   "source": [
    "###################\n",
    "# Cruzamento dos municipios com dfEstado para trazer densidade populacional por estado\n",
    "###################\n",
    "dfEstado = (dfMunicipios.join(dfEstado, on = ['uf'])\n",
    "            .rename(columns= {'municipioNormalizado' : 'municipio_normalizado'})\n",
    "            .reset_index().set_index(['estado_normalizado', 'municipio_normalizado'])\n",
    "           )"
   ]
  },
  {
   "cell_type": "code",
   "execution_count": null,
   "metadata": {},
   "outputs": [],
   "source": [
    "dfEstadoCopy = dfEstado.copy()\n",
    "dfEstado"
   ]
  },
  {
   "cell_type": "code",
   "execution_count": 5,
   "metadata": {},
   "outputs": [
    {
     "ename": "NameError",
     "evalue": "name 'dfEstado' is not defined",
     "output_type": "error",
     "traceback": [
      "\u001b[0;31m---------------------------------------------------------------------------\u001b[0m",
      "\u001b[0;31mNameError\u001b[0m                                 Traceback (most recent call last)",
      "\u001b[0;32m<ipython-input-5-3cc693c1d8a2>\u001b[0m in \u001b[0;36m<module>\u001b[0;34m\u001b[0m\n\u001b[1;32m      3\u001b[0m \u001b[0;31m###################\u001b[0m\u001b[0;34m\u001b[0m\u001b[0;34m\u001b[0m\u001b[0;34m\u001b[0m\u001b[0m\n\u001b[1;32m      4\u001b[0m \u001b[0;34m\u001b[0m\u001b[0m\n\u001b[0;32m----> 5\u001b[0;31m \u001b[0mdfDensEstado\u001b[0m \u001b[0;34m=\u001b[0m \u001b[0mdfEstado\u001b[0m\u001b[0;34m[\u001b[0m\u001b[0;34m[\u001b[0m\u001b[0;34m'area_mun'\u001b[0m\u001b[0;34m,\u001b[0m \u001b[0;34m'populacao_estimada'\u001b[0m\u001b[0;34m,\u001b[0m \u001b[0;34m'densidade_populacional'\u001b[0m\u001b[0;34m]\u001b[0m\u001b[0;34m]\u001b[0m\u001b[0;34m\u001b[0m\u001b[0;34m\u001b[0m\u001b[0m\n\u001b[0m\u001b[1;32m      6\u001b[0m \u001b[0;31m# dfDensEstado = dfDensEstado.loc[dfDensEstado['densidade_populacional'] > 500]\u001b[0m\u001b[0;34m\u001b[0m\u001b[0;34m\u001b[0m\u001b[0;34m\u001b[0m\u001b[0m\n\u001b[1;32m      7\u001b[0m \u001b[0mdfDensEstado\u001b[0m\u001b[0;34m\u001b[0m\u001b[0;34m\u001b[0m\u001b[0m\n",
      "\u001b[0;31mNameError\u001b[0m: name 'dfEstado' is not defined"
     ]
    }
   ],
   "source": [
    "###################\n",
    "# calcular com a densidade populacional por estado\n",
    "###################\n",
    "\n",
    "dfDensEstado = dfEstado[['area_mun', 'populacao_estimada', 'densidade_populacional']]\n",
    "# dfDensEstado = dfDensEstado.loc[dfDensEstado['densidade_populacional'] > 500]\n",
    "dfDensEstado"
   ]
  },
  {
   "cell_type": "code",
   "execution_count": null,
   "metadata": {},
   "outputs": [],
   "source": [
    "###################\n",
    "# Tratamento do df com os casos de Covid\n",
    "###################\n",
    "\n",
    "dfIdadeEstado = (dfProc[['extractDate', 'estado_normalizado', 'municipio_normalizado']].copy()\n",
    "                 .reset_index(drop=True)\n",
    "                 .set_index('estado_normalizado', 'municipio_normalizado'))\n",
    "\n",
    "# dfIdadeEstado['dateTruncate'] = pd.to_datetime(dfIdadeEstado['extractDate']).dt.to_period('M') "
   ]
  },
  {
   "cell_type": "markdown",
   "metadata": {},
   "source": [
    "### Cruzamento dos dados com informações dos estados\n",
    "\n",
    "O intuito desse cruzamento e a homogenização dos dados com a informação geográfica e nomeclatura dos estados. "
   ]
  },
  {
   "cell_type": "code",
   "execution_count": null,
   "metadata": {},
   "outputs": [],
   "source": [
    "################################\n",
    "# Agrupamento por Idade e Estado\n",
    "################################\n",
    "dfGroupIdEst = (dfIdadeEstado\n",
    "         .groupby(['estado_normalizado', 'municipio_normalizado']).size()\n",
    "         .reset_index(name='soma_casos_covid')\n",
    "         .rename(columns={'extractDate': 'soma_casos_covid'})\n",
    "         .set_index(['estado_normalizado', 'municipio_normalizado'])\n",
    "        )\n",
    "\n",
    "################################\n",
    "# Restringindo valores\n",
    "################################\n",
    "dfGroupIdEstCom = dfGroupIdEst.copy()\n",
    "\n",
    "################################\n",
    "# normalizando\n",
    "################################\n",
    "\n",
    "def normalizar_column(df, dfDenEst):\n",
    "    fact_norm = 1000\n",
    "    col_norm = f'norm_x{fact_norm}Hab'\n",
    "    df = df.merge(dfDenEst, on = ['estado_normalizado', 'municipio_normalizado'])\n",
    "    df['norm'] = df['soma_casos_covid'].div(df['populacao_estimada'])\n",
    "    df[col_norm] = df['soma_casos_covid'].div(df['populacao_estimada'])*fact_norm\n",
    "    df = df.dropna(how='any',axis=0)\n",
    "    return (df, col_norm)\n",
    "\n",
    "dfFinalIdEstCom, col_norm = normalizar_column(dfGroupIdEstCom, dfDensEstado)\n",
    "dfFinalIdEst, col_norm = normalizar_column(dfGroupIdEst, dfDensEstado)\n",
    "\n",
    "dfFinalIdEst = dfFinalIdEst.loc[dfFinalIdEst['soma_casos_covid'] > 1000]\n",
    "dfFinalIdEst = dfFinalIdEst.loc[dfFinalIdEst['populacao_estimada'] > 100000]\n",
    "dfFinalIdEst = dfFinalIdEst.loc[dfFinalIdEst['densidade_populacional'] > 10]\n"
   ]
  },
  {
   "cell_type": "code",
   "execution_count": null,
   "metadata": {},
   "outputs": [],
   "source": [
    "dfFinalIdEst.columns"
   ]
  },
  {
   "cell_type": "code",
   "execution_count": null,
   "metadata": {},
   "outputs": [],
   "source": [
    "################################\n",
    "# Plot do df Completo\n",
    "################################\n",
    "\n",
    "x_column = 'densidade_populacional'\n",
    "# y_column = col_norm\n",
    "y_column = 'norm'\n",
    "dfFinalIdEstCom.sort_values(x_column).plot(kind = 'scatter', x = x_column, y=y_column, figsize=(10,5))\n",
    "plt.grid()\n",
    "plt.savefig(f'{PATH_FIGURAS}densidade_populacional_completo.png', bbox_inches = 'tight', pad_inches = 0)"
   ]
  },
  {
   "cell_type": "code",
   "execution_count": null,
   "metadata": {},
   "outputs": [],
   "source": [
    "################################\n",
    "# Plot do df com restrições\n",
    "################################\n",
    "x_column = 'densidade_populacional'\n",
    "# y_column = col_norm\n",
    "y_column = 'norm'\n",
    "dfFinalIdEst.sort_values(x_column).plot(kind = 'scatter', x = x_column, y=y_column, figsize=(10,5))\n",
    "plt.grid()"
   ]
  },
  {
   "cell_type": "code",
   "execution_count": null,
   "metadata": {},
   "outputs": [],
   "source": [
    "## Normalizando a densidade com uma distribuição normal\n",
    "dfFinalIdEst['dens_dist_normal'] = (dfFinalIdEst['densidade_populacional']-dfFinalIdEst['densidade_populacional'].mean())/dfFinalIdEst['densidade_populacional'].std()\n",
    "dfFinalIdEst['popu_dist_normal'] = (dfFinalIdEst['populacao_estimada']-dfFinalIdEst['populacao_estimada'].mean())/dfFinalIdEst['populacao_estimada'].std()\n",
    "dfFinalIdEst.count()"
   ]
  },
  {
   "cell_type": "code",
   "execution_count": null,
   "metadata": {},
   "outputs": [],
   "source": [
    "dfFinalIdEstOutlier = dfFinalIdEst[(np.abs(stats.zscore(dfFinalIdEst[['norm']])) < 3).all(axis=1)]\n",
    "dfFinalIdEstOutlier"
   ]
  },
  {
   "cell_type": "code",
   "execution_count": null,
   "metadata": {},
   "outputs": [],
   "source": [
    "dfKmeans = dfFinalIdEstOutlier[['dens_dist_normal', 'norm']]\n",
    "  \n",
    "kmeans = KMeans(n_clusters=3).fit(dfKmeans)\n",
    "centroids = kmeans.cluster_centers_\n",
    "print(centroids)\n",
    "\n",
    "# fig = plt.figure()\n",
    "# ax = Axes3D(fig)\n",
    "\n",
    "# ax.scatter(dfKmeans['dens_dist_normal'], dfKmeans['norm'], dfKmeans['popu_dist_normal'], c= kmeans.labels_.astype(float), s=50, alpha=0.5)\n",
    "# ax.scatter(centroids[:, 0], centroids[:, 1], c='red', s=50)\n",
    "# ax.set_zlim([0, 10])\n",
    "plt.figure(figsize=(8,4))\n",
    "plt.scatter(dfKmeans['dens_dist_normal'], dfKmeans['norm'], c= kmeans.labels_.astype(float), s=50, alpha=0.5)\n",
    "plt.scatter(centroids[:, 0], centroids[:, 1], c='red', s=50)\n",
    "plt.ylabel(\"Casos Normalizados\")\n",
    "plt.xlabel(\"Densidade populacional Normalizada\")\n",
    "plt.grid()\n",
    "plt.savefig(f'{PATH_FIGURAS}Kmeans.png', bbox_inches = 'tight', pad_inches = 0)"
   ]
  },
  {
   "cell_type": "code",
   "execution_count": 27,
   "metadata": {},
   "outputs": [
    {
     "data": {
      "text/html": [
       "<div>\n",
       "<style scoped>\n",
       "    .dataframe tbody tr th:only-of-type {\n",
       "        vertical-align: middle;\n",
       "    }\n",
       "\n",
       "    .dataframe tbody tr th {\n",
       "        vertical-align: top;\n",
       "    }\n",
       "\n",
       "    .dataframe thead th {\n",
       "        text-align: right;\n",
       "    }\n",
       "</style>\n",
       "<table border=\"1\" class=\"dataframe\">\n",
       "  <thead>\n",
       "    <tr style=\"text-align: right;\">\n",
       "      <th></th>\n",
       "      <th></th>\n",
       "      <th>soma_casos_covid</th>\n",
       "      <th>area_mun</th>\n",
       "      <th>populacao_estimada</th>\n",
       "      <th>densidade_populacional</th>\n",
       "      <th>norm</th>\n",
       "      <th>norm_x1000Hab</th>\n",
       "      <th>dens_dist_normal</th>\n",
       "      <th>popu_dist_normal</th>\n",
       "      <th>kmeans_cluster</th>\n",
       "    </tr>\n",
       "    <tr>\n",
       "      <th>estado_normalizado</th>\n",
       "      <th>municipio_normalizado</th>\n",
       "      <th></th>\n",
       "      <th></th>\n",
       "      <th></th>\n",
       "      <th></th>\n",
       "      <th></th>\n",
       "      <th></th>\n",
       "      <th></th>\n",
       "      <th></th>\n",
       "      <th></th>\n",
       "    </tr>\n",
       "  </thead>\n",
       "  <tbody>\n",
       "    <tr>\n",
       "      <th>acre</th>\n",
       "      <th>rio branco</th>\n",
       "      <td>10982</td>\n",
       "      <td>8834.942</td>\n",
       "      <td>413418</td>\n",
       "      <td>46.793516</td>\n",
       "      <td>0.026564</td>\n",
       "      <td>26.563914</td>\n",
       "      <td>-0.559007</td>\n",
       "      <td>0.005837</td>\n",
       "      <td>2.0</td>\n",
       "    </tr>\n",
       "    <tr>\n",
       "      <th rowspan=\"2\" valign=\"top\">alagoas</th>\n",
       "      <th>arapiraca</th>\n",
       "      <td>15234</td>\n",
       "      <td>345.655</td>\n",
       "      <td>233047</td>\n",
       "      <td>674.218513</td>\n",
       "      <td>0.065369</td>\n",
       "      <td>65.368788</td>\n",
       "      <td>-0.294290</td>\n",
       "      <td>-0.189177</td>\n",
       "      <td>2.0</td>\n",
       "    </tr>\n",
       "    <tr>\n",
       "      <th>maceio</th>\n",
       "      <td>31211</td>\n",
       "      <td>509.320</td>\n",
       "      <td>1025360</td>\n",
       "      <td>2013.194063</td>\n",
       "      <td>0.030439</td>\n",
       "      <td>30.439065</td>\n",
       "      <td>0.270638</td>\n",
       "      <td>0.667458</td>\n",
       "      <td>0.0</td>\n",
       "    </tr>\n",
       "    <tr>\n",
       "      <th rowspan=\"2\" valign=\"top\">amazonas</th>\n",
       "      <th>itacoatiara</th>\n",
       "      <td>2429</td>\n",
       "      <td>8891.906</td>\n",
       "      <td>102701</td>\n",
       "      <td>11.549942</td>\n",
       "      <td>0.023651</td>\n",
       "      <td>23.651182</td>\n",
       "      <td>-0.573877</td>\n",
       "      <td>-0.330105</td>\n",
       "      <td>2.0</td>\n",
       "    </tr>\n",
       "    <tr>\n",
       "      <th>manaus</th>\n",
       "      <td>60713</td>\n",
       "      <td>11401.092</td>\n",
       "      <td>2219580</td>\n",
       "      <td>194.681352</td>\n",
       "      <td>0.027353</td>\n",
       "      <td>27.353373</td>\n",
       "      <td>-0.496612</td>\n",
       "      <td>1.958627</td>\n",
       "      <td>2.0</td>\n",
       "    </tr>\n",
       "    <tr>\n",
       "      <th>...</th>\n",
       "      <th>...</th>\n",
       "      <td>...</td>\n",
       "      <td>...</td>\n",
       "      <td>...</td>\n",
       "      <td>...</td>\n",
       "      <td>...</td>\n",
       "      <td>...</td>\n",
       "      <td>...</td>\n",
       "      <td>...</td>\n",
       "      <td>...</td>\n",
       "    </tr>\n",
       "    <tr>\n",
       "      <th rowspan=\"3\" valign=\"top\">sergipe</th>\n",
       "      <th>aracaju</th>\n",
       "      <td>26139</td>\n",
       "      <td>182.163</td>\n",
       "      <td>664908</td>\n",
       "      <td>3650.071639</td>\n",
       "      <td>0.039312</td>\n",
       "      <td>39.312206</td>\n",
       "      <td>0.961254</td>\n",
       "      <td>0.277743</td>\n",
       "      <td>0.0</td>\n",
       "    </tr>\n",
       "    <tr>\n",
       "      <th>lagarto</th>\n",
       "      <td>2459</td>\n",
       "      <td>968.921</td>\n",
       "      <td>105221</td>\n",
       "      <td>108.596057</td>\n",
       "      <td>0.023370</td>\n",
       "      <td>23.369860</td>\n",
       "      <td>-0.532932</td>\n",
       "      <td>-0.327380</td>\n",
       "      <td>2.0</td>\n",
       "    </tr>\n",
       "    <tr>\n",
       "      <th>nossa senhora do socorro</th>\n",
       "      <td>2088</td>\n",
       "      <td>155.018</td>\n",
       "      <td>185706</td>\n",
       "      <td>1197.964107</td>\n",
       "      <td>0.011244</td>\n",
       "      <td>11.243579</td>\n",
       "      <td>-0.073316</td>\n",
       "      <td>-0.240361</td>\n",
       "      <td>2.0</td>\n",
       "    </tr>\n",
       "    <tr>\n",
       "      <th rowspan=\"2\" valign=\"top\">tocantins</th>\n",
       "      <th>araguaina</th>\n",
       "      <td>18978</td>\n",
       "      <td>4004.646</td>\n",
       "      <td>183381</td>\n",
       "      <td>45.792063</td>\n",
       "      <td>0.103489</td>\n",
       "      <td>103.489456</td>\n",
       "      <td>-0.559430</td>\n",
       "      <td>-0.242875</td>\n",
       "      <td>2.0</td>\n",
       "    </tr>\n",
       "    <tr>\n",
       "      <th>palmas</th>\n",
       "      <td>4826</td>\n",
       "      <td>2227.444</td>\n",
       "      <td>306296</td>\n",
       "      <td>137.510079</td>\n",
       "      <td>0.015756</td>\n",
       "      <td>15.756001</td>\n",
       "      <td>-0.520733</td>\n",
       "      <td>-0.109982</td>\n",
       "      <td>2.0</td>\n",
       "    </tr>\n",
       "  </tbody>\n",
       "</table>\n",
       "<p>271 rows × 9 columns</p>\n",
       "</div>"
      ],
      "text/plain": [
       "                                             soma_casos_covid   area_mun  \\\n",
       "estado_normalizado municipio_normalizado                                   \n",
       "acre               rio branco                           10982   8834.942   \n",
       "alagoas            arapiraca                            15234    345.655   \n",
       "                   maceio                               31211    509.320   \n",
       "amazonas           itacoatiara                           2429   8891.906   \n",
       "                   manaus                               60713  11401.092   \n",
       "...                                                       ...        ...   \n",
       "sergipe            aracaju                              26139    182.163   \n",
       "                   lagarto                               2459    968.921   \n",
       "                   nossa senhora do socorro              2088    155.018   \n",
       "tocantins          araguaina                            18978   4004.646   \n",
       "                   palmas                                4826   2227.444   \n",
       "\n",
       "                                             populacao_estimada  \\\n",
       "estado_normalizado municipio_normalizado                          \n",
       "acre               rio branco                            413418   \n",
       "alagoas            arapiraca                             233047   \n",
       "                   maceio                               1025360   \n",
       "amazonas           itacoatiara                           102701   \n",
       "                   manaus                               2219580   \n",
       "...                                                         ...   \n",
       "sergipe            aracaju                               664908   \n",
       "                   lagarto                               105221   \n",
       "                   nossa senhora do socorro              185706   \n",
       "tocantins          araguaina                             183381   \n",
       "                   palmas                                306296   \n",
       "\n",
       "                                             densidade_populacional      norm  \\\n",
       "estado_normalizado municipio_normalizado                                        \n",
       "acre               rio branco                             46.793516  0.026564   \n",
       "alagoas            arapiraca                             674.218513  0.065369   \n",
       "                   maceio                               2013.194063  0.030439   \n",
       "amazonas           itacoatiara                            11.549942  0.023651   \n",
       "                   manaus                                194.681352  0.027353   \n",
       "...                                                             ...       ...   \n",
       "sergipe            aracaju                              3650.071639  0.039312   \n",
       "                   lagarto                               108.596057  0.023370   \n",
       "                   nossa senhora do socorro             1197.964107  0.011244   \n",
       "tocantins          araguaina                              45.792063  0.103489   \n",
       "                   palmas                                137.510079  0.015756   \n",
       "\n",
       "                                             norm_x1000Hab  dens_dist_normal  \\\n",
       "estado_normalizado municipio_normalizado                                       \n",
       "acre               rio branco                    26.563914         -0.559007   \n",
       "alagoas            arapiraca                     65.368788         -0.294290   \n",
       "                   maceio                        30.439065          0.270638   \n",
       "amazonas           itacoatiara                   23.651182         -0.573877   \n",
       "                   manaus                        27.353373         -0.496612   \n",
       "...                                                    ...               ...   \n",
       "sergipe            aracaju                       39.312206          0.961254   \n",
       "                   lagarto                       23.369860         -0.532932   \n",
       "                   nossa senhora do socorro      11.243579         -0.073316   \n",
       "tocantins          araguaina                    103.489456         -0.559430   \n",
       "                   palmas                        15.756001         -0.520733   \n",
       "\n",
       "                                             popu_dist_normal  kmeans_cluster  \n",
       "estado_normalizado municipio_normalizado                                       \n",
       "acre               rio branco                        0.005837             2.0  \n",
       "alagoas            arapiraca                        -0.189177             2.0  \n",
       "                   maceio                            0.667458             0.0  \n",
       "amazonas           itacoatiara                      -0.330105             2.0  \n",
       "                   manaus                            1.958627             2.0  \n",
       "...                                                       ...             ...  \n",
       "sergipe            aracaju                           0.277743             0.0  \n",
       "                   lagarto                          -0.327380             2.0  \n",
       "                   nossa senhora do socorro         -0.240361             2.0  \n",
       "tocantins          araguaina                        -0.242875             2.0  \n",
       "                   palmas                           -0.109982             2.0  \n",
       "\n",
       "[271 rows x 9 columns]"
      ]
     },
     "execution_count": 27,
     "metadata": {},
     "output_type": "execute_result"
    }
   ],
   "source": [
    "dfFinalIdEstOutlier = dfFinalIdEstOutlier.reset_index()\n",
    "dfFinalIdEstOutlier['kmeans_cluster'] = pd.Series(kmeans.labels_.astype(float))\n",
    "dfFinalIdEstOutlier = dfFinalIdEstOutlier.set_index(['estado_normalizado', 'municipio_normalizado'])\n",
    "dfFinalIdEstOutlier"
   ]
  },
  {
   "cell_type": "markdown",
   "metadata": {},
   "source": [
    "### Para o Cluster 0"
   ]
  },
  {
   "cell_type": "code",
   "execution_count": 69,
   "metadata": {},
   "outputs": [],
   "source": [
    "def plot_corr(df):\n",
    "    corr = df[['soma_casos_covid', 'area_mun', 'norm', 'populacao_estimada', 'densidade_populacional']].corr()\n",
    "    sns.heatmap(corr, \n",
    "                xticklabels=corr.columns.values, \n",
    "                yticklabels=corr.columns.values, \n",
    "                cmap = 'RdYlGn_r', \n",
    "                annot=True)\n",
    "    return corr\n",
    "\n",
    "def plot_regression(df, eixoX, eixoY, name_grafico):\n",
    "    y = df[eixoY]\n",
    "    x = df[eixoX]\n",
    "    a, b, r, p, std_err = stats.linregress(x, y)\n",
    "    dfResult = df.copy()\n",
    "    dfResult['y_estimated'] = df[eixoX].apply(lambda x: a * x + b)\n",
    "    print(f\"Coeficiente de correlação : {r**2}\")\n",
    "    \n",
    "    plt.figure(figsize=(10,5))\n",
    "    plt.plot(dfResult[eixoX], dfResult['y_estimated'], 'g-')\n",
    "    plt.scatter(dfResult[eixoX], dfResult[eixoY])\n",
    "    plt.ylabel(eixoY)\n",
    "    plt.xlabel(eixoX)\n",
    "    plt.grid()\n",
    "    plt.savefig(f'{PATH_FIGURAS}{name_grafico}.png', bbox_inches = 'tight', pad_inches = 0)"
   ]
  },
  {
   "cell_type": "code",
   "execution_count": 38,
   "metadata": {},
   "outputs": [
    {
     "data": {
      "image/png": "[encoded data removed]",
      "text/plain": [
       "<Figure size 432x288 with 2 Axes>"
      ]
     },
     "metadata": {
      "needs_background": "light"
     },
     "output_type": "display_data"
    }
   ],
   "source": [
    "dfCluster0 = dfFinalIdEstOutlier.loc[dfFinalIdEstOutlier['kmeans_cluster'] == 0]\n",
    "corr0 = plot_corr(dfCluster0)"
   ]
  },
  {
   "cell_type": "code",
   "execution_count": 70,
   "metadata": {},
   "outputs": [
    {
     "name": "stdout",
     "output_type": "stream",
     "text": [
      "Coeficiente de correlação : 0.021702067075386473\n"
     ]
    },
    {
     "data": {
      "image/png": "[encoded data removed]",
      "text/plain": [
       "<Figure size 720x360 with 1 Axes>"
      ]
     },
     "metadata": {
      "needs_background": "light"
     },
     "output_type": "display_data"
    }
   ],
   "source": [
    "plot_regression(dfCluster0, 'densidade_populacional', 'norm', 'regression_cluster0')"
   ]
  },
  {
   "cell_type": "markdown",
   "metadata": {},
   "source": [
    "### Para o cluster 1"
   ]
  },
  {
   "cell_type": "code",
   "execution_count": 39,
   "metadata": {},
   "outputs": [
    {
     "data": {
      "image/png": "[encoded data removed]",
      "text/plain": [
       "<Figure size 432x288 with 2 Axes>"
      ]
     },
     "metadata": {
      "needs_background": "light"
     },
     "output_type": "display_data"
    }
   ],
   "source": [
    "dfCluster1 = dfFinalIdEstOutlier.loc[dfFinalIdEstOutlier['kmeans_cluster'] == 1]\n",
    "corr1 = plot_corr(dfCluster1)"
   ]
  },
  {
   "cell_type": "code",
   "execution_count": 71,
   "metadata": {},
   "outputs": [
    {
     "name": "stdout",
     "output_type": "stream",
     "text": [
      "Coeficiente de correlação : 0.038531904602388437\n"
     ]
    },
    {
     "data": {
      "image/png": "[encoded data removed]",
      "text/plain": [
       "<Figure size 720x360 with 1 Axes>"
      ]
     },
     "metadata": {
      "needs_background": "light"
     },
     "output_type": "display_data"
    }
   ],
   "source": [
    "plot_regression(dfCluster1, 'densidade_populacional', 'norm', 'regression_cluster1')"
   ]
  },
  {
   "cell_type": "markdown",
   "metadata": {},
   "source": [
    "### Para o cluster 2"
   ]
  },
  {
   "cell_type": "code",
   "execution_count": 40,
   "metadata": {},
   "outputs": [
    {
     "data": {
      "image/png": "[encoded data removed]",
      "text/plain": [
       "<Figure size 432x288 with 2 Axes>"
      ]
     },
     "metadata": {
      "needs_background": "light"
     },
     "output_type": "display_data"
    }
   ],
   "source": [
    "dfCluster2 = dfFinalIdEstOutlier.loc[dfFinalIdEstOutlier['kmeans_cluster'] == 2]\n",
    "corr2 = plot_corr(dfCluster2)"
   ]
  },
  {
   "cell_type": "code",
   "execution_count": 72,
   "metadata": {},
   "outputs": [
    {
     "name": "stdout",
     "output_type": "stream",
     "text": [
      "Coeficiente de correlação : 0.00254542436823241\n"
     ]
    },
    {
     "data": {
      "image/png": "[encoded data removed]",
      "text/plain": [
       "<Figure size 720x360 with 1 Axes>"
      ]
     },
     "metadata": {
      "needs_background": "light"
     },
     "output_type": "display_data"
    }
   ],
   "source": [
    "plot_regression(dfCluster2, 'densidade_populacional', 'norm', 'regression_cluster2')"
   ]
  },
  {
   "cell_type": "code",
   "execution_count": 41,
   "metadata": {},
   "outputs": [
    {
     "data": {
      "image/png": "[encoded data removed]",
      "text/plain": [
       "<Figure size 432x288 with 2 Axes>"
      ]
     },
     "metadata": {
      "needs_background": "light"
     },
     "output_type": "display_data"
    }
   ],
   "source": [
    "## Correlação Matriz Completa\n",
    "corrCom = plot_corr(dfFinalIdEstCom)"
   ]
  },
  {
   "cell_type": "code",
   "execution_count": 58,
   "metadata": {},
   "outputs": [
    {
     "data": {
      "text/html": [
       "<div>\n",
       "<style scoped>\n",
       "    .dataframe tbody tr th:only-of-type {\n",
       "        vertical-align: middle;\n",
       "    }\n",
       "\n",
       "    .dataframe tbody tr th {\n",
       "        vertical-align: top;\n",
       "    }\n",
       "\n",
       "    .dataframe thead th {\n",
       "        text-align: right;\n",
       "    }\n",
       "</style>\n",
       "<table border=\"1\" class=\"dataframe\">\n",
       "  <thead>\n",
       "    <tr style=\"text-align: right;\">\n",
       "      <th></th>\n",
       "      <th>soma_casos_covid</th>\n",
       "      <th>area_mun</th>\n",
       "      <th>norm</th>\n",
       "      <th>populacao_estimada</th>\n",
       "      <th>densidade_populacional</th>\n",
       "    </tr>\n",
       "    <tr>\n",
       "      <th>Fonte</th>\n",
       "      <th></th>\n",
       "      <th></th>\n",
       "      <th></th>\n",
       "      <th></th>\n",
       "      <th></th>\n",
       "    </tr>\n",
       "  </thead>\n",
       "  <tbody>\n",
       "    <tr>\n",
       "      <th>Completo</th>\n",
       "      <td>1.0</td>\n",
       "      <td>0.028150</td>\n",
       "      <td>0.211333</td>\n",
       "      <td>0.886327</td>\n",
       "      <td>0.358990</td>\n",
       "    </tr>\n",
       "    <tr>\n",
       "      <th>Cluster 0</th>\n",
       "      <td>1.0</td>\n",
       "      <td>0.828956</td>\n",
       "      <td>0.402471</td>\n",
       "      <td>0.856655</td>\n",
       "      <td>0.444031</td>\n",
       "    </tr>\n",
       "    <tr>\n",
       "      <th>Cluster 1</th>\n",
       "      <td>1.0</td>\n",
       "      <td>0.991900</td>\n",
       "      <td>0.284061</td>\n",
       "      <td>0.989240</td>\n",
       "      <td>-0.237091</td>\n",
       "    </tr>\n",
       "    <tr>\n",
       "      <th>Cluster 2</th>\n",
       "      <td>1.0</td>\n",
       "      <td>0.257393</td>\n",
       "      <td>0.432073</td>\n",
       "      <td>0.870706</td>\n",
       "      <td>0.176186</td>\n",
       "    </tr>\n",
       "  </tbody>\n",
       "</table>\n",
       "</div>"
      ],
      "text/plain": [
       "           soma_casos_covid  area_mun      norm  populacao_estimada  \\\n",
       "Fonte                                                                 \n",
       "Completo                1.0  0.028150  0.211333            0.886327   \n",
       "Cluster 0               1.0  0.828956  0.402471            0.856655   \n",
       "Cluster 1               1.0  0.991900  0.284061            0.989240   \n",
       "Cluster 2               1.0  0.257393  0.432073            0.870706   \n",
       "\n",
       "           densidade_populacional  \n",
       "Fonte                              \n",
       "Completo                 0.358990  \n",
       "Cluster 0                0.444031  \n",
       "Cluster 1               -0.237091  \n",
       "Cluster 2                0.176186  "
      ]
     },
     "execution_count": 58,
     "metadata": {},
     "output_type": "execute_result"
    }
   ],
   "source": [
    "corrCom['Fonte'] =  'Completo'\n",
    "corr0['Fonte'] =  'Cluster 0'\n",
    "corr1['Fonte'] =  'Cluster 1'\n",
    "corr2['Fonte'] =  'Cluster 2'\n",
    "\n",
    "dfCorrFinal = pd.concat([corrCom, corr0, corr1, corr2]).reset_index()\n",
    "dfCorrFinal.loc[dfCorrFinal['index'] == 'soma_casos_covid'].set_index('Fonte').drop('index', axis=1)\n",
    "\n",
    "\n",
    "\n",
    "# from sklearn.cluster import KMeans\n",
    "\n",
    "# dfKmeans = dfFinalIdEstOutlier[['dens_dist_normal', 'norm', 'populacao_estimada']]\n",
    "  \n",
    "# kmeans = KMeans(n_clusters=3).fit(dfKmeans)\n",
    "# centroids = kmeans.cluster_centers_\n",
    "# print(centroids)\n",
    "\n",
    "# plt.scatter(dfKmeans['dens_dist_normal'], dfKmeans['norm'], c= kmeans.labels_.astype(float), s=50, alpha=0.5)\n",
    "# plt.scatter(centroids[:, 0], centroids[:, 1], c='red', s=50)\n",
    "# # plt.show()"
   ]
  },
  {
   "cell_type": "code",
   "execution_count": 330,
   "metadata": {},
   "outputs": [],
   "source": [
    "\n",
    "# x_column = 'dens_dist_normal'\n",
    "# # y_column = col_norm\n",
    "# y_column = 'norm'\n",
    "# dfFinalIdEstOutlier.sort_values(x_column).plot(kind = 'scatter', x = x_column, y=y_column, figsize=(10,5))\n",
    "# plt.grid()\n",
    "# # plt.xlim([-1, 500])\n",
    "# # plt.ylim([0, 0.1])\n",
    "# # Casos per capita\n",
    "# # Análise sobre cidades maiores de 1e5 hab"
   ]
  },
  {
   "cell_type": "code",
   "execution_count": 331,
   "metadata": {},
   "outputs": [],
   "source": [
    "# dfFinalIdEstOutlier[['soma_casos_covid', 'area_mun', 'norm', 'populacao_estimada', 'densidade_populacional', 'dens_dist_normal']].corr()"
   ]
  },
  {
   "cell_type": "code",
   "execution_count": 332,
   "metadata": {},
   "outputs": [],
   "source": [
    "# corr = dfFinalIdEstOutlier[['soma_casos_covid', 'area_mun', 'norm', 'populacao_estimada', 'densidade_populacional']].corr()\n",
    "# sns.heatmap(corr, \n",
    "#             xticklabels=corr.columns.values, \n",
    "#             yticklabels=corr.columns.values, \n",
    "#             cmap = 'RdYlGn_r', \n",
    "#             annot=True)\n",
    "\n",
    "# Correlação ao longo do tempo\n",
    "# "
   ]
  },
  {
   "cell_type": "code",
   "execution_count": 333,
   "metadata": {},
   "outputs": [],
   "source": [
    "# y = dfFinalIdEstOutlier['norm']\n",
    "# x = dfFinalIdEstOutlier['densidade_populacional']\n",
    "# a, b, r, p, std_err = stats.linregress(x, y)\n",
    "# r*r"
   ]
  },
  {
   "cell_type": "code",
   "execution_count": 334,
   "metadata": {},
   "outputs": [],
   "source": [
    "# dfFinalIdEstOutlier['y_estimated'] = dfFinalIdEstOutlier['densidade_populacional'].apply(lambda x: a * x + b)\n",
    "\n",
    "# plt.figure()\n",
    "# plt.plot(dfFinalIdEstOutlier['densidade_populacional'], dfFinalIdEstOutlier['y_estimated'], 'g-')\n",
    "# plt.scatter(dfFinalIdEstOutlier['densidade_populacional'], dfFinalIdEstOutlier['norm'])\n",
    "# plt.grid()\n",
    "# # plt.xlim([0, 100000])\n",
    "# # plt.ylim([0, 100])\n"
   ]
  }
 ],
 "metadata": {
  "kernelspec": {
   "display_name": "Python 3",
   "language": "python",
   "name": "python3"
  },
  "language_info": {
   "codemirror_mode": {
    "name": "ipython",
    "version": 3
   },
   "file_extension": ".py",
   "mimetype": "text/x-python",
   "name": "python",
   "nbconvert_exporter": "python",
   "pygments_lexer": "ipython3",
   "version": "3.8.5"
  }
 },
 "nbformat": 4,
 "nbformat_minor": 4
}
