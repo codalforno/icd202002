{
 "cells": [
  {
   "cell_type": "markdown",
   "metadata": {},
   "source": [
    "# Exploração dos dados SIVEP GRIPE 06/2020"
   ]
  },
  {
   "cell_type": "code",
   "execution_count": 32,
   "metadata": {},
   "outputs": [],
   "source": [
    "import pandas as pd\n",
    "import numpy as np\n",
    "import matplotlib.pyplot as plt\n",
    "import os.path\n",
    "%matplotlib inline"
   ]
  },
  {
   "cell_type": "markdown",
   "metadata": {},
   "source": [
    "## Preprocessamento e filtragem dos dados"
   ]
  },
  {
   "cell_type": "markdown",
   "metadata": {},
   "source": [
    "### Variáveis a serem exploradas: quantidade de casos em função do tempo\n",
    "* Sexo\n",
    "* Idade\n",
    "* Etnia\n",
    "* Escolaridade"
   ]
  },
  {
   "cell_type": "markdown",
   "metadata": {},
   "source": [
    "Foram removidas abaixo algumas colunas. As colunas removidas contém informações que não pretendemos analisar nessa pesquisa que incluem: sintomas, viagem, vacinação e testes para outros vírus exceto o sars-cov-2"
   ]
  },
  {
   "cell_type": "code",
   "execution_count": 33,
   "metadata": {},
   "outputs": [],
   "source": [
    "def preprocess_data(path):\n",
    "    df = pd.read_csv(path, sep=';', encoding='latin-1')\n",
    "    #filtrando as colunas relevantes para a nossa pesquisa\n",
    "    colunas_filtro = pd.Series(df.columns.values)\n",
    "    selecao = (colunas_filtro[0:30] + colunas_filtro[41:56] + colunas_filtro[68:77] + colunas_filtro[118:120] + colunas_filtro[121:125] + colunas_filtro[131:134]).index\n",
    "    df_filtrado = df[colunas_filtro[selecao]]\n",
    "    \n",
    "    df_covid = df_filtrado[df_filtrado.CLASSI_FIN == 5]\n",
    "    df_covid.rename(columns={'ï»¿DT_NOTIFIC':'DT_NOTIFIC'}, inplace=True)\n",
    "    df_covid['DT_NOTIFIC'] = pd.to_datetime(df_covid['DT_NOTIFIC'], format='%d/%m/%Y')\n",
    "    \n",
    "    df_covid.to_csv('../dados/influd_processado.csv', index=False)"
   ]
  },
  {
   "cell_type": "code",
   "execution_count": 34,
   "metadata": {},
   "outputs": [
    {
     "data": {
      "text/html": [
       "<div>\n",
       "<style scoped>\n",
       "    .dataframe tbody tr th:only-of-type {\n",
       "        vertical-align: middle;\n",
       "    }\n",
       "\n",
       "    .dataframe tbody tr th {\n",
       "        vertical-align: top;\n",
       "    }\n",
       "\n",
       "    .dataframe thead th {\n",
       "        text-align: right;\n",
       "    }\n",
       "</style>\n",
       "<table border=\"1\" class=\"dataframe\">\n",
       "  <thead>\n",
       "    <tr style=\"text-align: right;\">\n",
       "      <th></th>\n",
       "      <th>DT_NOTIFIC</th>\n",
       "      <th>SEM_NOT</th>\n",
       "      <th>DT_SIN_PRI</th>\n",
       "      <th>SEM_PRI</th>\n",
       "      <th>SG_UF_NOT</th>\n",
       "      <th>ID_REGIONA</th>\n",
       "      <th>CO_REGIONA</th>\n",
       "      <th>ID_MUNICIP</th>\n",
       "      <th>CO_MUN_NOT</th>\n",
       "      <th>ID_UNIDADE</th>\n",
       "      <th>CO_UNI_NOT</th>\n",
       "      <th>CS_SEXO</th>\n",
       "      <th>DT_NASC</th>\n",
       "      <th>NU_IDADE_N</th>\n",
       "      <th>TP_IDADE</th>\n",
       "      <th>COD_IDADE</th>\n",
       "      <th>CS_GESTANT</th>\n",
       "      <th>CS_RACA</th>\n",
       "      <th>CS_ETINIA</th>\n",
       "      <th>CS_ESCOL_N</th>\n",
       "      <th>ID_PAIS</th>\n",
       "      <th>CO_PAIS</th>\n",
       "      <th>SG_UF</th>\n",
       "      <th>ID_RG_RESI</th>\n",
       "      <th>CO_RG_RESI</th>\n",
       "      <th>ID_MN_RESI</th>\n",
       "      <th>CO_MUN_RES</th>\n",
       "      <th>CS_ZONA</th>\n",
       "      <th>SURTO_SG</th>\n",
       "      <th>NOSOCOMIAL</th>\n",
       "      <th>PUERPERA</th>\n",
       "      <th>CARDIOPATI</th>\n",
       "      <th>HEMATOLOGI</th>\n",
       "      <th>SIND_DOWN</th>\n",
       "      <th>HEPATICA</th>\n",
       "      <th>ASMA</th>\n",
       "      <th>DIABETES</th>\n",
       "      <th>NEUROLOGIC</th>\n",
       "      <th>PNEUMOPATI</th>\n",
       "      <th>IMUNODEPRE</th>\n",
       "      <th>RENAL</th>\n",
       "      <th>OBESIDADE</th>\n",
       "      <th>OBES_IMC</th>\n",
       "      <th>OUT_MORBI</th>\n",
       "      <th>MORB_DESC</th>\n",
       "      <th>HOSPITAL</th>\n",
       "      <th>DT_INTERNA</th>\n",
       "      <th>SG_UF_INTE</th>\n",
       "      <th>ID_RG_INTE</th>\n",
       "      <th>CO_RG_INTE</th>\n",
       "      <th>ID_MN_INTE</th>\n",
       "      <th>CO_MU_INTE</th>\n",
       "      <th>UTI</th>\n",
       "      <th>DT_ENTUTI</th>\n",
       "      <th>CLASSI_FIN</th>\n",
       "      <th>CLASSI_OUT</th>\n",
       "      <th>EVOLUCAO</th>\n",
       "      <th>DT_EVOLUCA</th>\n",
       "      <th>DT_ENCERRA</th>\n",
       "      <th>DT_DIGITA</th>\n",
       "      <th>PCR_SARS2</th>\n",
       "      <th>PAC_COCBO</th>\n",
       "      <th>PAC_DSCBO</th>\n",
       "    </tr>\n",
       "  </thead>\n",
       "  <tbody>\n",
       "    <tr>\n",
       "      <th>0</th>\n",
       "      <td>2020-03-04</td>\n",
       "      <td>10</td>\n",
       "      <td>02/03/2020</td>\n",
       "      <td>10</td>\n",
       "      <td>SP</td>\n",
       "      <td>GVE XXVII SAO JOSE DOS CAMPOS</td>\n",
       "      <td>1351.0</td>\n",
       "      <td>SAO JOSE DOS CAMPOS</td>\n",
       "      <td>354990</td>\n",
       "      <td>HOSPITAL SAO JOSE</td>\n",
       "      <td>3517918</td>\n",
       "      <td>M</td>\n",
       "      <td>10/02/1946</td>\n",
       "      <td>74</td>\n",
       "      <td>3</td>\n",
       "      <td>3074</td>\n",
       "      <td>6</td>\n",
       "      <td>1.0</td>\n",
       "      <td>NaN</td>\n",
       "      <td>9.0</td>\n",
       "      <td>BRASIL</td>\n",
       "      <td>1</td>\n",
       "      <td>SP</td>\n",
       "      <td>GVE VIII MOGI DAS CRUZES</td>\n",
       "      <td>1333.0</td>\n",
       "      <td>SANTA ISABEL</td>\n",
       "      <td>354680.0</td>\n",
       "      <td>1.0</td>\n",
       "      <td>2.0</td>\n",
       "      <td>2.0</td>\n",
       "      <td>2.0</td>\n",
       "      <td>2.0</td>\n",
       "      <td>1.0</td>\n",
       "      <td>2.0</td>\n",
       "      <td>2.0</td>\n",
       "      <td>2.0</td>\n",
       "      <td>1.0</td>\n",
       "      <td>2.0</td>\n",
       "      <td>2.0</td>\n",
       "      <td>1.0</td>\n",
       "      <td>2.0</td>\n",
       "      <td>2.0</td>\n",
       "      <td>NaN</td>\n",
       "      <td>1.0</td>\n",
       "      <td>SD MIELOSPLASIA</td>\n",
       "      <td>1.0</td>\n",
       "      <td>03/03/2020</td>\n",
       "      <td>SP</td>\n",
       "      <td>GVE XXVII SAO JOSE DOS CAMPOS</td>\n",
       "      <td>1351.0</td>\n",
       "      <td>SAO JOSE DOS CAMPOS</td>\n",
       "      <td>354990.0</td>\n",
       "      <td>1.0</td>\n",
       "      <td>03/03/2020</td>\n",
       "      <td>5.0</td>\n",
       "      <td>NaN</td>\n",
       "      <td>2.0</td>\n",
       "      <td>00000000</td>\n",
       "      <td>27/04/2020</td>\n",
       "      <td>04/03/2020</td>\n",
       "      <td>1.0</td>\n",
       "      <td>NaN</td>\n",
       "      <td>NaN</td>\n",
       "    </tr>\n",
       "    <tr>\n",
       "      <th>1</th>\n",
       "      <td>2020-03-03</td>\n",
       "      <td>10</td>\n",
       "      <td>17/02/2020</td>\n",
       "      <td>8</td>\n",
       "      <td>SP</td>\n",
       "      <td>GVE XI ARACATUBA</td>\n",
       "      <td>1336.0</td>\n",
       "      <td>AURIFLAMA</td>\n",
       "      <td>350420</td>\n",
       "      <td>UBS DE AURIFLAMA</td>\n",
       "      <td>2030497</td>\n",
       "      <td>F</td>\n",
       "      <td>10/01/1971</td>\n",
       "      <td>49</td>\n",
       "      <td>3</td>\n",
       "      <td>3049</td>\n",
       "      <td>5</td>\n",
       "      <td>4.0</td>\n",
       "      <td>NaN</td>\n",
       "      <td>9.0</td>\n",
       "      <td>BRASIL</td>\n",
       "      <td>1</td>\n",
       "      <td>SP</td>\n",
       "      <td>GVE XI ARACATUBA</td>\n",
       "      <td>1336.0</td>\n",
       "      <td>AURIFLAMA</td>\n",
       "      <td>350420.0</td>\n",
       "      <td>1.0</td>\n",
       "      <td>2.0</td>\n",
       "      <td>2.0</td>\n",
       "      <td>2.0</td>\n",
       "      <td>2.0</td>\n",
       "      <td>2.0</td>\n",
       "      <td>2.0</td>\n",
       "      <td>2.0</td>\n",
       "      <td>2.0</td>\n",
       "      <td>2.0</td>\n",
       "      <td>2.0</td>\n",
       "      <td>2.0</td>\n",
       "      <td>2.0</td>\n",
       "      <td>2.0</td>\n",
       "      <td>1.0</td>\n",
       "      <td>1.0</td>\n",
       "      <td>1.0</td>\n",
       "      <td>NaN</td>\n",
       "      <td>1.0</td>\n",
       "      <td>03/03/2020</td>\n",
       "      <td>SP</td>\n",
       "      <td>GVE XI ARACATUBA</td>\n",
       "      <td>1336.0</td>\n",
       "      <td>AURIFLAMA</td>\n",
       "      <td>350420.0</td>\n",
       "      <td>2.0</td>\n",
       "      <td>00000000</td>\n",
       "      <td>5.0</td>\n",
       "      <td>NaN</td>\n",
       "      <td>1.0</td>\n",
       "      <td>07/03/2020</td>\n",
       "      <td>25/05/2020</td>\n",
       "      <td>05/03/2020</td>\n",
       "      <td>1.0</td>\n",
       "      <td>NaN</td>\n",
       "      <td>NaN</td>\n",
       "    </tr>\n",
       "    <tr>\n",
       "      <th>2</th>\n",
       "      <td>2020-03-06</td>\n",
       "      <td>10</td>\n",
       "      <td>04/03/2020</td>\n",
       "      <td>10</td>\n",
       "      <td>DF</td>\n",
       "      <td>NaN</td>\n",
       "      <td>NaN</td>\n",
       "      <td>BRASILIA</td>\n",
       "      <td>530010</td>\n",
       "      <td>HRAN</td>\n",
       "      <td>10464</td>\n",
       "      <td>F</td>\n",
       "      <td>05/10/1967</td>\n",
       "      <td>52</td>\n",
       "      <td>3</td>\n",
       "      <td>3052</td>\n",
       "      <td>5</td>\n",
       "      <td>4.0</td>\n",
       "      <td>NaN</td>\n",
       "      <td>9.0</td>\n",
       "      <td>BRASIL</td>\n",
       "      <td>1</td>\n",
       "      <td>DF</td>\n",
       "      <td>NaN</td>\n",
       "      <td>NaN</td>\n",
       "      <td>BRASILIA</td>\n",
       "      <td>530010.0</td>\n",
       "      <td>1.0</td>\n",
       "      <td>2.0</td>\n",
       "      <td>2.0</td>\n",
       "      <td>NaN</td>\n",
       "      <td>NaN</td>\n",
       "      <td>NaN</td>\n",
       "      <td>NaN</td>\n",
       "      <td>NaN</td>\n",
       "      <td>NaN</td>\n",
       "      <td>NaN</td>\n",
       "      <td>NaN</td>\n",
       "      <td>NaN</td>\n",
       "      <td>NaN</td>\n",
       "      <td>NaN</td>\n",
       "      <td>1.0</td>\n",
       "      <td>30.0</td>\n",
       "      <td>1.0</td>\n",
       "      <td>TMO</td>\n",
       "      <td>1.0</td>\n",
       "      <td>06/03/2020</td>\n",
       "      <td>DF</td>\n",
       "      <td>NaN</td>\n",
       "      <td>NaN</td>\n",
       "      <td>BRASILIA</td>\n",
       "      <td>530010.0</td>\n",
       "      <td>NaN</td>\n",
       "      <td>00000000</td>\n",
       "      <td>5.0</td>\n",
       "      <td>NaN</td>\n",
       "      <td>9.0</td>\n",
       "      <td>00000000</td>\n",
       "      <td>06/03/2020</td>\n",
       "      <td>06/03/2020</td>\n",
       "      <td>1.0</td>\n",
       "      <td>NaN</td>\n",
       "      <td>NaN</td>\n",
       "    </tr>\n",
       "    <tr>\n",
       "      <th>3</th>\n",
       "      <td>2020-03-04</td>\n",
       "      <td>10</td>\n",
       "      <td>01/03/2020</td>\n",
       "      <td>10</td>\n",
       "      <td>PR</td>\n",
       "      <td>02RS METROPOLITANA</td>\n",
       "      <td>1356.0</td>\n",
       "      <td>CURITIBA</td>\n",
       "      <td>410690</td>\n",
       "      <td>HOSPITAL INFANTIL PEQUENO PRINCIPE</td>\n",
       "      <td>15563</td>\n",
       "      <td>M</td>\n",
       "      <td>13/04/2018</td>\n",
       "      <td>1</td>\n",
       "      <td>3</td>\n",
       "      <td>3001</td>\n",
       "      <td>6</td>\n",
       "      <td>9.0</td>\n",
       "      <td>NaN</td>\n",
       "      <td>5.0</td>\n",
       "      <td>BRASIL</td>\n",
       "      <td>1</td>\n",
       "      <td>PR</td>\n",
       "      <td>02RS METROPOLITANA</td>\n",
       "      <td>1356.0</td>\n",
       "      <td>CURITIBA</td>\n",
       "      <td>410690.0</td>\n",
       "      <td>1.0</td>\n",
       "      <td>2.0</td>\n",
       "      <td>2.0</td>\n",
       "      <td>2.0</td>\n",
       "      <td>2.0</td>\n",
       "      <td>2.0</td>\n",
       "      <td>2.0</td>\n",
       "      <td>2.0</td>\n",
       "      <td>2.0</td>\n",
       "      <td>2.0</td>\n",
       "      <td>2.0</td>\n",
       "      <td>2.0</td>\n",
       "      <td>2.0</td>\n",
       "      <td>2.0</td>\n",
       "      <td>2.0</td>\n",
       "      <td>NaN</td>\n",
       "      <td>1.0</td>\n",
       "      <td>PRE TMO</td>\n",
       "      <td>1.0</td>\n",
       "      <td>06/03/2020</td>\n",
       "      <td>PR</td>\n",
       "      <td>02RS METROPOLITANA</td>\n",
       "      <td>1356.0</td>\n",
       "      <td>CURITIBA</td>\n",
       "      <td>410690.0</td>\n",
       "      <td>2.0</td>\n",
       "      <td>00000000</td>\n",
       "      <td>5.0</td>\n",
       "      <td>NaN</td>\n",
       "      <td>1.0</td>\n",
       "      <td>16/04/2020</td>\n",
       "      <td>16/04/2020</td>\n",
       "      <td>06/03/2020</td>\n",
       "      <td>1.0</td>\n",
       "      <td>NaN</td>\n",
       "      <td>NaN</td>\n",
       "    </tr>\n",
       "    <tr>\n",
       "      <th>4</th>\n",
       "      <td>2020-03-05</td>\n",
       "      <td>10</td>\n",
       "      <td>01/03/2020</td>\n",
       "      <td>10</td>\n",
       "      <td>PE</td>\n",
       "      <td>001</td>\n",
       "      <td>1497.0</td>\n",
       "      <td>RECIFE</td>\n",
       "      <td>261160</td>\n",
       "      <td>REAL HOSPITAL PORTUGUES</td>\n",
       "      <td>1120</td>\n",
       "      <td>M</td>\n",
       "      <td>24/03/1948</td>\n",
       "      <td>71</td>\n",
       "      <td>3</td>\n",
       "      <td>3071</td>\n",
       "      <td>6</td>\n",
       "      <td>4.0</td>\n",
       "      <td>NaN</td>\n",
       "      <td>9.0</td>\n",
       "      <td>BRASIL</td>\n",
       "      <td>1</td>\n",
       "      <td>PE</td>\n",
       "      <td>001</td>\n",
       "      <td>1497.0</td>\n",
       "      <td>RECIFE</td>\n",
       "      <td>261160.0</td>\n",
       "      <td>1.0</td>\n",
       "      <td>2.0</td>\n",
       "      <td>2.0</td>\n",
       "      <td>2.0</td>\n",
       "      <td>2.0</td>\n",
       "      <td>2.0</td>\n",
       "      <td>2.0</td>\n",
       "      <td>2.0</td>\n",
       "      <td>2.0</td>\n",
       "      <td>1.0</td>\n",
       "      <td>2.0</td>\n",
       "      <td>2.0</td>\n",
       "      <td>2.0</td>\n",
       "      <td>2.0</td>\n",
       "      <td>2.0</td>\n",
       "      <td>NaN</td>\n",
       "      <td>1.0</td>\n",
       "      <td>HAS</td>\n",
       "      <td>1.0</td>\n",
       "      <td>05/03/2020</td>\n",
       "      <td>PE</td>\n",
       "      <td>001</td>\n",
       "      <td>1497.0</td>\n",
       "      <td>RECIFE</td>\n",
       "      <td>261160.0</td>\n",
       "      <td>NaN</td>\n",
       "      <td>00000000</td>\n",
       "      <td>5.0</td>\n",
       "      <td>NaN</td>\n",
       "      <td>NaN</td>\n",
       "      <td>00000000</td>\n",
       "      <td>21/03/2020</td>\n",
       "      <td>09/03/2020</td>\n",
       "      <td>1.0</td>\n",
       "      <td>NaN</td>\n",
       "      <td>NaN</td>\n",
       "    </tr>\n",
       "  </tbody>\n",
       "</table>\n",
       "</div>"
      ],
      "text/plain": [
       "   DT_NOTIFIC  SEM_NOT  DT_SIN_PRI  SEM_PRI SG_UF_NOT  \\\n",
       "0  2020-03-04       10  02/03/2020       10        SP   \n",
       "1  2020-03-03       10  17/02/2020        8        SP   \n",
       "2  2020-03-06       10  04/03/2020       10        DF   \n",
       "3  2020-03-04       10  01/03/2020       10        PR   \n",
       "4  2020-03-05       10  01/03/2020       10        PE   \n",
       "\n",
       "                      ID_REGIONA  CO_REGIONA           ID_MUNICIP  CO_MUN_NOT  \\\n",
       "0  GVE XXVII SAO JOSE DOS CAMPOS      1351.0  SAO JOSE DOS CAMPOS      354990   \n",
       "1               GVE XI ARACATUBA      1336.0            AURIFLAMA      350420   \n",
       "2                            NaN         NaN             BRASILIA      530010   \n",
       "3             02RS METROPOLITANA      1356.0             CURITIBA      410690   \n",
       "4                            001      1497.0               RECIFE      261160   \n",
       "\n",
       "                           ID_UNIDADE  CO_UNI_NOT CS_SEXO     DT_NASC  \\\n",
       "0                   HOSPITAL SAO JOSE     3517918       M  10/02/1946   \n",
       "1                    UBS DE AURIFLAMA     2030497       F  10/01/1971   \n",
       "2                                HRAN       10464       F  05/10/1967   \n",
       "3  HOSPITAL INFANTIL PEQUENO PRINCIPE       15563       M  13/04/2018   \n",
       "4             REAL HOSPITAL PORTUGUES        1120       M  24/03/1948   \n",
       "\n",
       "   NU_IDADE_N  TP_IDADE  COD_IDADE  CS_GESTANT  CS_RACA CS_ETINIA  CS_ESCOL_N  \\\n",
       "0          74         3       3074           6      1.0       NaN         9.0   \n",
       "1          49         3       3049           5      4.0       NaN         9.0   \n",
       "2          52         3       3052           5      4.0       NaN         9.0   \n",
       "3           1         3       3001           6      9.0       NaN         5.0   \n",
       "4          71         3       3071           6      4.0       NaN         9.0   \n",
       "\n",
       "  ID_PAIS  CO_PAIS SG_UF                ID_RG_RESI  CO_RG_RESI    ID_MN_RESI  \\\n",
       "0  BRASIL        1    SP  GVE VIII MOGI DAS CRUZES      1333.0  SANTA ISABEL   \n",
       "1  BRASIL        1    SP          GVE XI ARACATUBA      1336.0     AURIFLAMA   \n",
       "2  BRASIL        1    DF                       NaN         NaN      BRASILIA   \n",
       "3  BRASIL        1    PR        02RS METROPOLITANA      1356.0      CURITIBA   \n",
       "4  BRASIL        1    PE                       001      1497.0        RECIFE   \n",
       "\n",
       "   CO_MUN_RES  CS_ZONA  SURTO_SG  NOSOCOMIAL  PUERPERA  CARDIOPATI  \\\n",
       "0    354680.0      1.0       2.0         2.0       2.0         2.0   \n",
       "1    350420.0      1.0       2.0         2.0       2.0         2.0   \n",
       "2    530010.0      1.0       2.0         2.0       NaN         NaN   \n",
       "3    410690.0      1.0       2.0         2.0       2.0         2.0   \n",
       "4    261160.0      1.0       2.0         2.0       2.0         2.0   \n",
       "\n",
       "   HEMATOLOGI  SIND_DOWN  HEPATICA  ASMA  DIABETES  NEUROLOGIC  PNEUMOPATI  \\\n",
       "0         1.0        2.0       2.0   2.0       1.0         2.0         2.0   \n",
       "1         2.0        2.0       2.0   2.0       2.0         2.0         2.0   \n",
       "2         NaN        NaN       NaN   NaN       NaN         NaN         NaN   \n",
       "3         2.0        2.0       2.0   2.0       2.0         2.0         2.0   \n",
       "4         2.0        2.0       2.0   2.0       1.0         2.0         2.0   \n",
       "\n",
       "   IMUNODEPRE  RENAL  OBESIDADE  OBES_IMC  OUT_MORBI        MORB_DESC  \\\n",
       "0         1.0    2.0        2.0       NaN        1.0  SD MIELOSPLASIA   \n",
       "1         2.0    2.0        1.0       1.0        1.0              NaN   \n",
       "2         NaN    NaN        1.0      30.0        1.0              TMO   \n",
       "3         2.0    2.0        2.0       NaN        1.0          PRE TMO   \n",
       "4         2.0    2.0        2.0       NaN        1.0              HAS   \n",
       "\n",
       "   HOSPITAL  DT_INTERNA SG_UF_INTE                     ID_RG_INTE  CO_RG_INTE  \\\n",
       "0       1.0  03/03/2020         SP  GVE XXVII SAO JOSE DOS CAMPOS      1351.0   \n",
       "1       1.0  03/03/2020         SP               GVE XI ARACATUBA      1336.0   \n",
       "2       1.0  06/03/2020         DF                            NaN         NaN   \n",
       "3       1.0  06/03/2020         PR             02RS METROPOLITANA      1356.0   \n",
       "4       1.0  05/03/2020         PE                            001      1497.0   \n",
       "\n",
       "            ID_MN_INTE  CO_MU_INTE  UTI   DT_ENTUTI  CLASSI_FIN  CLASSI_OUT  \\\n",
       "0  SAO JOSE DOS CAMPOS    354990.0  1.0  03/03/2020         5.0         NaN   \n",
       "1            AURIFLAMA    350420.0  2.0    00000000         5.0         NaN   \n",
       "2             BRASILIA    530010.0  NaN    00000000         5.0         NaN   \n",
       "3             CURITIBA    410690.0  2.0    00000000         5.0         NaN   \n",
       "4               RECIFE    261160.0  NaN    00000000         5.0         NaN   \n",
       "\n",
       "   EVOLUCAO  DT_EVOLUCA  DT_ENCERRA   DT_DIGITA  PCR_SARS2 PAC_COCBO PAC_DSCBO  \n",
       "0       2.0    00000000  27/04/2020  04/03/2020        1.0       NaN       NaN  \n",
       "1       1.0  07/03/2020  25/05/2020  05/03/2020        1.0       NaN       NaN  \n",
       "2       9.0    00000000  06/03/2020  06/03/2020        1.0       NaN       NaN  \n",
       "3       1.0  16/04/2020  16/04/2020  06/03/2020        1.0       NaN       NaN  \n",
       "4       NaN    00000000  21/03/2020  09/03/2020        1.0       NaN       NaN  "
      ]
     },
     "execution_count": 34,
     "metadata": {},
     "output_type": "execute_result"
    }
   ],
   "source": [
    "data_path = '../dados/influd_processado.csv'\n",
    "if (not os.path.exists(data_path)):\n",
    "    preprocess_data('../dados/influd.csv')\n",
    "df_covid = pd.read_csv(data_path, sep=',', encoding='latin-1')\n",
    "df_covid.head()"
   ]
  },
  {
   "cell_type": "markdown",
   "metadata": {},
   "source": [
    "* Informações sobre as colunas e preenchimento estão detalhadas no arquivo **dicionario-dados-SRAG-hospitalizado-Sivepgripe.pdf**"
   ]
  },
  {
   "cell_type": "code",
   "execution_count": 35,
   "metadata": {},
   "outputs": [
    {
     "data": {
      "text/html": [
       "<div>\n",
       "<style scoped>\n",
       "    .dataframe tbody tr th:only-of-type {\n",
       "        vertical-align: middle;\n",
       "    }\n",
       "\n",
       "    .dataframe tbody tr th {\n",
       "        vertical-align: top;\n",
       "    }\n",
       "\n",
       "    .dataframe thead th {\n",
       "        text-align: right;\n",
       "    }\n",
       "</style>\n",
       "<table border=\"1\" class=\"dataframe\">\n",
       "  <thead>\n",
       "    <tr style=\"text-align: right;\">\n",
       "      <th></th>\n",
       "      <th>DT_NOTIFIC</th>\n",
       "      <th>SEM_NOT</th>\n",
       "      <th>DT_SIN_PRI</th>\n",
       "      <th>SEM_PRI</th>\n",
       "      <th>SG_UF_NOT</th>\n",
       "      <th>ID_REGIONA</th>\n",
       "      <th>CO_REGIONA</th>\n",
       "      <th>ID_MUNICIP</th>\n",
       "      <th>CO_MUN_NOT</th>\n",
       "      <th>ID_UNIDADE</th>\n",
       "      <th>CO_UNI_NOT</th>\n",
       "      <th>CS_SEXO</th>\n",
       "      <th>DT_NASC</th>\n",
       "      <th>NU_IDADE_N</th>\n",
       "      <th>TP_IDADE</th>\n",
       "      <th>COD_IDADE</th>\n",
       "      <th>CS_GESTANT</th>\n",
       "      <th>CS_RACA</th>\n",
       "      <th>CS_ETINIA</th>\n",
       "      <th>CS_ESCOL_N</th>\n",
       "      <th>ID_PAIS</th>\n",
       "      <th>CO_PAIS</th>\n",
       "      <th>SG_UF</th>\n",
       "      <th>ID_RG_RESI</th>\n",
       "      <th>CO_RG_RESI</th>\n",
       "      <th>ID_MN_RESI</th>\n",
       "      <th>CO_MUN_RES</th>\n",
       "      <th>CS_ZONA</th>\n",
       "      <th>SURTO_SG</th>\n",
       "      <th>NOSOCOMIAL</th>\n",
       "      <th>PUERPERA</th>\n",
       "      <th>CARDIOPATI</th>\n",
       "      <th>HEMATOLOGI</th>\n",
       "      <th>SIND_DOWN</th>\n",
       "      <th>HEPATICA</th>\n",
       "      <th>ASMA</th>\n",
       "      <th>DIABETES</th>\n",
       "      <th>NEUROLOGIC</th>\n",
       "      <th>PNEUMOPATI</th>\n",
       "      <th>IMUNODEPRE</th>\n",
       "      <th>RENAL</th>\n",
       "      <th>OBESIDADE</th>\n",
       "      <th>OBES_IMC</th>\n",
       "      <th>OUT_MORBI</th>\n",
       "      <th>MORB_DESC</th>\n",
       "      <th>HOSPITAL</th>\n",
       "      <th>DT_INTERNA</th>\n",
       "      <th>SG_UF_INTE</th>\n",
       "      <th>ID_RG_INTE</th>\n",
       "      <th>CO_RG_INTE</th>\n",
       "      <th>ID_MN_INTE</th>\n",
       "      <th>CO_MU_INTE</th>\n",
       "      <th>UTI</th>\n",
       "      <th>DT_ENTUTI</th>\n",
       "      <th>CLASSI_FIN</th>\n",
       "      <th>CLASSI_OUT</th>\n",
       "      <th>EVOLUCAO</th>\n",
       "      <th>DT_EVOLUCA</th>\n",
       "      <th>DT_ENCERRA</th>\n",
       "      <th>DT_DIGITA</th>\n",
       "      <th>PCR_SARS2</th>\n",
       "      <th>PAC_COCBO</th>\n",
       "      <th>PAC_DSCBO</th>\n",
       "    </tr>\n",
       "  </thead>\n",
       "  <tbody>\n",
       "    <tr>\n",
       "      <th>0</th>\n",
       "      <td>2020-03-04</td>\n",
       "      <td>10</td>\n",
       "      <td>02/03/2020</td>\n",
       "      <td>10</td>\n",
       "      <td>SP</td>\n",
       "      <td>GVE XXVII SAO JOSE DOS CAMPOS</td>\n",
       "      <td>1351.0</td>\n",
       "      <td>SAO JOSE DOS CAMPOS</td>\n",
       "      <td>354990</td>\n",
       "      <td>HOSPITAL SAO JOSE</td>\n",
       "      <td>3517918</td>\n",
       "      <td>M</td>\n",
       "      <td>10/02/1946</td>\n",
       "      <td>74</td>\n",
       "      <td>3</td>\n",
       "      <td>3074</td>\n",
       "      <td>6</td>\n",
       "      <td>1.0</td>\n",
       "      <td>NaN</td>\n",
       "      <td>9.0</td>\n",
       "      <td>BRASIL</td>\n",
       "      <td>1</td>\n",
       "      <td>SP</td>\n",
       "      <td>GVE VIII MOGI DAS CRUZES</td>\n",
       "      <td>1333.0</td>\n",
       "      <td>SANTA ISABEL</td>\n",
       "      <td>354680.0</td>\n",
       "      <td>1.0</td>\n",
       "      <td>2.0</td>\n",
       "      <td>2.0</td>\n",
       "      <td>2.0</td>\n",
       "      <td>2.0</td>\n",
       "      <td>1.0</td>\n",
       "      <td>2.0</td>\n",
       "      <td>2.0</td>\n",
       "      <td>2.0</td>\n",
       "      <td>1.0</td>\n",
       "      <td>2.0</td>\n",
       "      <td>2.0</td>\n",
       "      <td>1.0</td>\n",
       "      <td>2.0</td>\n",
       "      <td>2.0</td>\n",
       "      <td>NaN</td>\n",
       "      <td>1.0</td>\n",
       "      <td>SD MIELOSPLASIA</td>\n",
       "      <td>1.0</td>\n",
       "      <td>03/03/2020</td>\n",
       "      <td>SP</td>\n",
       "      <td>GVE XXVII SAO JOSE DOS CAMPOS</td>\n",
       "      <td>1351.0</td>\n",
       "      <td>SAO JOSE DOS CAMPOS</td>\n",
       "      <td>354990.0</td>\n",
       "      <td>1.0</td>\n",
       "      <td>03/03/2020</td>\n",
       "      <td>5.0</td>\n",
       "      <td>NaN</td>\n",
       "      <td>2.0</td>\n",
       "      <td>00000000</td>\n",
       "      <td>27/04/2020</td>\n",
       "      <td>04/03/2020</td>\n",
       "      <td>1.0</td>\n",
       "      <td>NaN</td>\n",
       "      <td>NaN</td>\n",
       "    </tr>\n",
       "  </tbody>\n",
       "</table>\n",
       "</div>"
      ],
      "text/plain": [
       "   DT_NOTIFIC  SEM_NOT  DT_SIN_PRI  SEM_PRI SG_UF_NOT  \\\n",
       "0  2020-03-04       10  02/03/2020       10        SP   \n",
       "\n",
       "                      ID_REGIONA  CO_REGIONA           ID_MUNICIP  CO_MUN_NOT  \\\n",
       "0  GVE XXVII SAO JOSE DOS CAMPOS      1351.0  SAO JOSE DOS CAMPOS      354990   \n",
       "\n",
       "          ID_UNIDADE  CO_UNI_NOT CS_SEXO     DT_NASC  NU_IDADE_N  TP_IDADE  \\\n",
       "0  HOSPITAL SAO JOSE     3517918       M  10/02/1946          74         3   \n",
       "\n",
       "   COD_IDADE  CS_GESTANT  CS_RACA CS_ETINIA  CS_ESCOL_N ID_PAIS  CO_PAIS  \\\n",
       "0       3074           6      1.0       NaN         9.0  BRASIL        1   \n",
       "\n",
       "  SG_UF                ID_RG_RESI  CO_RG_RESI    ID_MN_RESI  CO_MUN_RES  \\\n",
       "0    SP  GVE VIII MOGI DAS CRUZES      1333.0  SANTA ISABEL    354680.0   \n",
       "\n",
       "   CS_ZONA  SURTO_SG  NOSOCOMIAL  PUERPERA  CARDIOPATI  HEMATOLOGI  SIND_DOWN  \\\n",
       "0      1.0       2.0         2.0       2.0         2.0         1.0        2.0   \n",
       "\n",
       "   HEPATICA  ASMA  DIABETES  NEUROLOGIC  PNEUMOPATI  IMUNODEPRE  RENAL  \\\n",
       "0       2.0   2.0       1.0         2.0         2.0         1.0    2.0   \n",
       "\n",
       "   OBESIDADE  OBES_IMC  OUT_MORBI        MORB_DESC  HOSPITAL  DT_INTERNA  \\\n",
       "0        2.0       NaN        1.0  SD MIELOSPLASIA       1.0  03/03/2020   \n",
       "\n",
       "  SG_UF_INTE                     ID_RG_INTE  CO_RG_INTE           ID_MN_INTE  \\\n",
       "0         SP  GVE XXVII SAO JOSE DOS CAMPOS      1351.0  SAO JOSE DOS CAMPOS   \n",
       "\n",
       "   CO_MU_INTE  UTI   DT_ENTUTI  CLASSI_FIN  CLASSI_OUT  EVOLUCAO DT_EVOLUCA  \\\n",
       "0    354990.0  1.0  03/03/2020         5.0         NaN       2.0   00000000   \n",
       "\n",
       "   DT_ENCERRA   DT_DIGITA  PCR_SARS2 PAC_COCBO PAC_DSCBO  \n",
       "0  27/04/2020  04/03/2020        1.0       NaN       NaN  "
      ]
     },
     "execution_count": 35,
     "metadata": {},
     "output_type": "execute_result"
    }
   ],
   "source": [
    "#configurando o pandas para mostrar todas as colunas do dataframe\n",
    "pd.set_option('display.max_columns', None)\n",
    "pd.set_option('display.max_rows', 200)\n",
    "df_covid.head(1)"
   ]
  },
  {
   "cell_type": "code",
   "execution_count": 36,
   "metadata": {},
   "outputs": [],
   "source": [
    "#filtrando colunas relevantes para a pesquisa\n",
    "#colunas_filtro = pd.Series(df.columns.values)\n",
    "#selecao = (colunas_filtro[0:30] + colunas_filtro[41:56] + colunas_filtro[68:77] + colunas_filtro[118:120] + colunas_filtro[121:125] + colunas_filtro[131:134]).index\n",
    "#df_filtrado = df[colunas_filtro[selecao]]"
   ]
  },
  {
   "cell_type": "code",
   "execution_count": 37,
   "metadata": {},
   "outputs": [],
   "source": [
    "#colunas Excluidas\n",
    "#set1 = set(colunas_filtro.index)\n",
    "#set2 = set(selecao)\n",
    "#excluidos = (list(set1 - set2))\n",
    "#colunas_filtro[excluidos]"
   ]
  },
  {
   "cell_type": "code",
   "execution_count": 38,
   "metadata": {},
   "outputs": [],
   "source": [
    "#colunas_filtro[selecao]"
   ]
  },
  {
   "cell_type": "code",
   "execution_count": 39,
   "metadata": {},
   "outputs": [
    {
     "name": "stdout",
     "output_type": "stream",
     "text": [
      "<class 'pandas.core.frame.DataFrame'>\n",
      "RangeIndex: 117432 entries, 0 to 117431\n",
      "Data columns (total 63 columns):\n",
      " #   Column      Non-Null Count   Dtype         \n",
      "---  ------      --------------   -----         \n",
      " 0   DT_NOTIFIC  117432 non-null  datetime64[ns]\n",
      " 1   SEM_NOT     117432 non-null  int64         \n",
      " 2   DT_SIN_PRI  117432 non-null  object        \n",
      " 3   SEM_PRI     117432 non-null  int64         \n",
      " 4   SG_UF_NOT   117432 non-null  object        \n",
      " 5   ID_REGIONA  96353 non-null   object        \n",
      " 6   CO_REGIONA  96353 non-null   float64       \n",
      " 7   ID_MUNICIP  117432 non-null  object        \n",
      " 8   CO_MUN_NOT  117432 non-null  int64         \n",
      " 9   ID_UNIDADE  117432 non-null  object        \n",
      " 10  CO_UNI_NOT  117432 non-null  int64         \n",
      " 11  CS_SEXO     117432 non-null  object        \n",
      " 12  DT_NASC     117432 non-null  object        \n",
      " 13  NU_IDADE_N  117432 non-null  int64         \n",
      " 14  TP_IDADE    117432 non-null  int64         \n",
      " 15  COD_IDADE   117432 non-null  int64         \n",
      " 16  CS_GESTANT  117432 non-null  int64         \n",
      " 17  CS_RACA     94886 non-null   float64       \n",
      " 18  CS_ETINIA   171 non-null     object        \n",
      " 19  CS_ESCOL_N  80555 non-null   float64       \n",
      " 20  ID_PAIS     117432 non-null  object        \n",
      " 21  CO_PAIS     117432 non-null  int64         \n",
      " 22  SG_UF       117418 non-null  object        \n",
      " 23  ID_RG_RESI  96489 non-null   object        \n",
      " 24  CO_RG_RESI  96489 non-null   float64       \n",
      " 25  ID_MN_RESI  117418 non-null  object        \n",
      " 26  CO_MUN_RES  117418 non-null  float64       \n",
      " 27  CS_ZONA     103169 non-null  float64       \n",
      " 28  SURTO_SG    96327 non-null   float64       \n",
      " 29  NOSOCOMIAL  90408 non-null   float64       \n",
      " 30  PUERPERA    39104 non-null   float64       \n",
      " 31  CARDIOPATI  55830 non-null   float64       \n",
      " 32  HEMATOLOGI  39762 non-null   float64       \n",
      " 33  SIND_DOWN   39421 non-null   float64       \n",
      " 34  HEPATICA    39482 non-null   float64       \n",
      " 35  ASMA        40322 non-null   float64       \n",
      " 36  DIABETES    51617 non-null   float64       \n",
      " 37  NEUROLOGIC  41034 non-null   float64       \n",
      " 38  PNEUMOPATI  40808 non-null   float64       \n",
      " 39  IMUNODEPRE  40338 non-null   float64       \n",
      " 40  RENAL       40812 non-null   float64       \n",
      " 41  OBESIDADE   40537 non-null   float64       \n",
      " 42  OBES_IMC    4106 non-null    float64       \n",
      " 43  OUT_MORBI   48744 non-null   float64       \n",
      " 44  MORB_DESC   28244 non-null   object        \n",
      " 45  HOSPITAL    113228 non-null  float64       \n",
      " 46  DT_INTERNA  117432 non-null  object        \n",
      " 47  SG_UF_INTE  117431 non-null  object        \n",
      " 48  ID_RG_INTE  80491 non-null   object        \n",
      " 49  CO_RG_INTE  80491 non-null   float64       \n",
      " 50  ID_MN_INTE  105618 non-null  object        \n",
      " 51  CO_MU_INTE  105618 non-null  float64       \n",
      " 52  UTI         96861 non-null   float64       \n",
      " 53  DT_ENTUTI   117432 non-null  object        \n",
      " 54  CLASSI_FIN  117432 non-null  float64       \n",
      " 55  CLASSI_OUT  0 non-null       float64       \n",
      " 56  EVOLUCAO    92628 non-null   float64       \n",
      " 57  DT_EVOLUCA  117432 non-null  object        \n",
      " 58  DT_ENCERRA  117432 non-null  object        \n",
      " 59  DT_DIGITA   117432 non-null  object        \n",
      " 60  PCR_SARS2   96499 non-null   float64       \n",
      " 61  PAC_COCBO   3960 non-null    object        \n",
      " 62  PAC_DSCBO   3960 non-null    object        \n",
      "dtypes: datetime64[ns](1), float64(30), int64(9), object(23)\n",
      "memory usage: 56.4+ MB\n"
     ]
    }
   ],
   "source": [
    "#df_covid = df_filtrado[df_filtrado.CLASSI_FIN == 5]\n",
    "#df_covid.rename(columns={'ï»¿DT_NOTIFIC':'DT_NOTIFIC'}, inplace=True)\n",
    "df_covid['DT_NOTIFIC'] = pd.to_datetime(df_covid['DT_NOTIFIC'], format='%Y/%m/%d')\n",
    "df_covid.info()"
   ]
  },
  {
   "cell_type": "markdown",
   "metadata": {},
   "source": [
    "## Análise da distribuição dos dados"
   ]
  },
  {
   "cell_type": "code",
   "execution_count": 40,
   "metadata": {},
   "outputs": [
    {
     "data": {
      "image/png": "[encoded data removed]",
      "text/plain": [
       "<Figure size 432x288 with 1 Axes>"
      ]
     },
     "metadata": {
      "needs_background": "light"
     },
     "output_type": "display_data"
    }
   ],
   "source": [
    "ax = df_covid.NU_IDADE_N.plot.hist(bins=20, grid=True)\n",
    "ax.set_ylabel('Número de casos')\n",
    "ax.set_xlabel('Idade')\n",
    "plt.savefig('../graficos/histidade.svg')"
   ]
  },
  {
   "cell_type": "code",
   "execution_count": 41,
   "metadata": {},
   "outputs": [
    {
     "data": {
      "image/png": "[encoded data removed]",
      "text/plain": [
       "<Figure size 432x288 with 1 Axes>"
      ]
     },
     "metadata": {},
     "output_type": "display_data"
    }
   ],
   "source": [
    "df_aux = df_sexo = df_covid.groupby([df_covid.CS_SEXO]).size()\n",
    "df_sexo = df_sexo.drop('I').rename(index={'M':'Masculino','F':'Feminino'})\n",
    "ax = df_sexo.plot.pie(autopct='%1.0f%%')\n",
    "ax.set_ylabel('')\n",
    "plt.savefig('../graficos/porcentagem_sexos_sivep.svg', dpi=300)\n",
    "plt.savefig('../graficos/porcentagem_sexos_sivep.png', dpi=300)"
   ]
  },
  {
   "cell_type": "code",
   "execution_count": 42,
   "metadata": {},
   "outputs": [
    {
     "data": {
      "text/html": [
       "<div>\n",
       "<style scoped>\n",
       "    .dataframe tbody tr th:only-of-type {\n",
       "        vertical-align: middle;\n",
       "    }\n",
       "\n",
       "    .dataframe tbody tr th {\n",
       "        vertical-align: top;\n",
       "    }\n",
       "\n",
       "    .dataframe thead th {\n",
       "        text-align: right;\n",
       "    }\n",
       "</style>\n",
       "<table border=\"1\" class=\"dataframe\">\n",
       "  <thead>\n",
       "    <tr style=\"text-align: right;\">\n",
       "      <th></th>\n",
       "      <th>CS_SEXO</th>\n",
       "      <th>Porcentagem</th>\n",
       "    </tr>\n",
       "  </thead>\n",
       "  <tbody>\n",
       "    <tr>\n",
       "      <th>0</th>\n",
       "      <td>M</td>\n",
       "      <td>57.04%</td>\n",
       "    </tr>\n",
       "    <tr>\n",
       "      <th>1</th>\n",
       "      <td>F</td>\n",
       "      <td>42.93%</td>\n",
       "    </tr>\n",
       "    <tr>\n",
       "      <th>2</th>\n",
       "      <td>I</td>\n",
       "      <td>0.03%</td>\n",
       "    </tr>\n",
       "  </tbody>\n",
       "</table>\n",
       "</div>"
      ],
      "text/plain": [
       "  CS_SEXO Porcentagem\n",
       "0       M      57.04%\n",
       "1       F      42.93%\n",
       "2       I       0.03%"
      ]
     },
     "execution_count": 42,
     "metadata": {},
     "output_type": "execute_result"
    }
   ],
   "source": [
    "df_aux = df_aux.transform(lambda x : x/sum(x))\n",
    "df_aux.sort_values(ascending=False, inplace=True)\n",
    "df_aux = df_aux.reset_index(name='Porcentagem')\n",
    "df_aux['Porcentagem'] = pd.Series([\"{0:.2f}%\".format(val * 100) for val in df_aux['Porcentagem']], index = df_aux.index)\n",
    "df_aux"
   ]
  },
  {
   "cell_type": "code",
   "execution_count": 43,
   "metadata": {},
   "outputs": [
    {
     "data": {
      "image/png": "[encoded data removed]",
      "text/plain": [
       "<Figure size 432x288 with 1 Axes>"
      ]
     },
     "metadata": {
      "needs_background": "light"
     },
     "output_type": "display_data"
    }
   ],
   "source": [
    "df_etnia = df_covid.groupby([df_covid.CS_RACA]).size().sort_values(ascending=False)\n",
    "df_etnia.rename(index={1.0:'Branca', 2.0:'Preta', 3.0:'Amarela', 4.0:'Parda', 5.0:'Indígena', 9.0:'Ignorado'}, inplace=True)\n",
    "ax = df_etnia.plot.bar(grid=True)\n",
    "plt.xticks(rotation=0)\n",
    "ax.set_ylabel('Número de casos')\n",
    "ax.set_xlabel('Etnia')\n",
    "plt.savefig('../graficos/porcentagem_etnias_sivep.svg', dpi=300)"
   ]
  },
  {
   "cell_type": "code",
   "execution_count": 64,
   "metadata": {},
   "outputs": [
    {
     "data": {
      "image/png": "[encoded data removed]",
      "text/plain": [
       "<Figure size 432x288 with 1 Axes>"
      ]
     },
     "metadata": {},
     "output_type": "display_data"
    }
   ],
   "source": [
    "df_etnia = df_covid.groupby([df_covid.CS_RACA]).size().sort_values(ascending=False)\n",
    "df_etnia.rename(index={1.0:'Branca', 2.0:'Preta', 3.0:'Amarela', 4.0:'Parda', 5.0:'Indígena', 9.0:'Ignorado'}, inplace=True)\n",
    "df_aux = df_etnia.copy()\n",
    "df_etnia.drop('Ignorado', inplace=True)\n",
    "ax = df_etnia.plot.pie(autopct='%1.0f%%')\n",
    "plt.xticks(rotation=0)\n",
    "ax.set_ylabel('Número de casos')\n",
    "ax.set_xlabel('Etnia')\n",
    "plt.savefig('../graficos/porcentagem_etnias_sivep.svg', dpi=300)"
   ]
  },
  {
   "cell_type": "code",
   "execution_count": 65,
   "metadata": {},
   "outputs": [
    {
     "data": {
      "text/html": [
       "<div>\n",
       "<style scoped>\n",
       "    .dataframe tbody tr th:only-of-type {\n",
       "        vertical-align: middle;\n",
       "    }\n",
       "\n",
       "    .dataframe tbody tr th {\n",
       "        vertical-align: top;\n",
       "    }\n",
       "\n",
       "    .dataframe thead th {\n",
       "        text-align: right;\n",
       "    }\n",
       "</style>\n",
       "<table border=\"1\" class=\"dataframe\">\n",
       "  <thead>\n",
       "    <tr style=\"text-align: right;\">\n",
       "      <th></th>\n",
       "      <th>CS_RACA</th>\n",
       "      <th>Porcentagem</th>\n",
       "    </tr>\n",
       "  </thead>\n",
       "  <tbody>\n",
       "    <tr>\n",
       "      <th>0</th>\n",
       "      <td>Parda</td>\n",
       "      <td>38.04%</td>\n",
       "    </tr>\n",
       "    <tr>\n",
       "      <th>1</th>\n",
       "      <td>Branca</td>\n",
       "      <td>34.27%</td>\n",
       "    </tr>\n",
       "    <tr>\n",
       "      <th>2</th>\n",
       "      <td>Ignorado</td>\n",
       "      <td>20.58%</td>\n",
       "    </tr>\n",
       "    <tr>\n",
       "      <th>3</th>\n",
       "      <td>Preta</td>\n",
       "      <td>5.62%</td>\n",
       "    </tr>\n",
       "    <tr>\n",
       "      <th>4</th>\n",
       "      <td>Amarela</td>\n",
       "      <td>1.16%</td>\n",
       "    </tr>\n",
       "    <tr>\n",
       "      <th>5</th>\n",
       "      <td>Indígena</td>\n",
       "      <td>0.34%</td>\n",
       "    </tr>\n",
       "  </tbody>\n",
       "</table>\n",
       "</div>"
      ],
      "text/plain": [
       "    CS_RACA Porcentagem\n",
       "0     Parda      38.04%\n",
       "1    Branca      34.27%\n",
       "2  Ignorado      20.58%\n",
       "3     Preta       5.62%\n",
       "4   Amarela       1.16%\n",
       "5  Indígena       0.34%"
      ]
     },
     "execution_count": 65,
     "metadata": {},
     "output_type": "execute_result"
    }
   ],
   "source": [
    "df_aux = df_aux.transform(lambda x : x/sum(x))\n",
    "df_aux.sort_values(ascending=False, inplace=True)\n",
    "df_aux = df_aux.reset_index(name='Porcentagem')\n",
    "df_aux['Porcentagem'] = pd.Series([\"{0:.2f}%\".format(val * 100) for val in df_aux['Porcentagem']], index = df_aux.index)\n",
    "df_aux"
   ]
  },
  {
   "cell_type": "code",
   "execution_count": 46,
   "metadata": {},
   "outputs": [
    {
     "data": {
      "text/plain": [
       "CS_RACA\n",
       "Parda       36098\n",
       "Branca      32514\n",
       "Preta        5329\n",
       "Amarela      1097\n",
       "Indígena      318\n",
       "dtype: int64"
      ]
     },
     "execution_count": 46,
     "metadata": {},
     "output_type": "execute_result"
    }
   ],
   "source": [
    "df_etnia.head()"
   ]
  },
  {
   "cell_type": "code",
   "execution_count": 47,
   "metadata": {},
   "outputs": [
    {
     "data": {
      "text/html": [
       "<div>\n",
       "<style scoped>\n",
       "    .dataframe tbody tr th:only-of-type {\n",
       "        vertical-align: middle;\n",
       "    }\n",
       "\n",
       "    .dataframe tbody tr th {\n",
       "        vertical-align: top;\n",
       "    }\n",
       "\n",
       "    .dataframe thead th {\n",
       "        text-align: right;\n",
       "    }\n",
       "</style>\n",
       "<table border=\"1\" class=\"dataframe\">\n",
       "  <thead>\n",
       "    <tr style=\"text-align: right;\">\n",
       "      <th></th>\n",
       "      <th>Porcentagem</th>\n",
       "    </tr>\n",
       "    <tr>\n",
       "      <th>CS_RACA</th>\n",
       "      <th></th>\n",
       "    </tr>\n",
       "  </thead>\n",
       "  <tbody>\n",
       "    <tr>\n",
       "      <th>Parda</th>\n",
       "      <td>47.90%</td>\n",
       "    </tr>\n",
       "    <tr>\n",
       "      <th>Branca</th>\n",
       "      <td>43.15%</td>\n",
       "    </tr>\n",
       "    <tr>\n",
       "      <th>Preta</th>\n",
       "      <td>7.07%</td>\n",
       "    </tr>\n",
       "    <tr>\n",
       "      <th>Amarela</th>\n",
       "      <td>1.46%</td>\n",
       "    </tr>\n",
       "    <tr>\n",
       "      <th>Indígena</th>\n",
       "      <td>0.42%</td>\n",
       "    </tr>\n",
       "  </tbody>\n",
       "</table>\n",
       "</div>"
      ],
      "text/plain": [
       "         Porcentagem\n",
       "CS_RACA             \n",
       "Parda         47.90%\n",
       "Branca        43.15%\n",
       "Preta          7.07%\n",
       "Amarela        1.46%\n",
       "Indígena       0.42%"
      ]
     },
     "execution_count": 47,
     "metadata": {},
     "output_type": "execute_result"
    }
   ],
   "source": [
    "df_aux = df_etnia.transform(lambda x : x/sum(x))\n",
    "df_aux.sort_values(ascending=False, inplace=True)\n",
    "df_aux = df_aux.reset_index(name='Porcentagem')\n",
    "df_aux['Porcentagem'] = pd.Series([\"{0:.2f}%\".format(val * 100) for val in df_aux['Porcentagem']], index = df_aux.index)\n",
    "df_aux = df_aux.set_index('CS_RACA')\n",
    "df_aux"
   ]
  },
  {
   "cell_type": "code",
   "execution_count": 48,
   "metadata": {},
   "outputs": [
    {
     "data": {
      "image/png": "[encoded data removed]",
      "text/plain": [
       "<Figure size 432x288 with 1 Axes>"
      ]
     },
     "metadata": {
      "needs_background": "light"
     },
     "output_type": "display_data"
    }
   ],
   "source": [
    "from pandas.plotting import table # EDIT: see deprecation warnings below\n",
    "\n",
    "ax = plt.subplot(111, frame_on=False) # no visible frame\n",
    "ax.xaxis.set_visible(False)  # hide the x axis\n",
    "ax.yaxis.set_visible(False)  # hide the y axis\n",
    "\n",
    "table(ax, df_aux)  # where df is your data frame\n",
    "\n",
    "plt.savefig('tabela_porcentagem_etnias.png')"
   ]
  },
  {
   "cell_type": "code",
   "execution_count": 49,
   "metadata": {},
   "outputs": [
    {
     "data": {
      "image/png": "[encoded data removed]",
      "text/plain": [
       "<Figure size 432x288 with 1 Axes>"
      ]
     },
     "metadata": {
      "needs_background": "light"
     },
     "output_type": "display_data"
    }
   ],
   "source": [
    "df_aux = df_esc = df_covid.groupby([df_covid.CS_ESCOL_N]).size().sort_values(ascending=False)\n",
    "df_esc.rename(index={0.0:'Sem escolaridade', 1.0:'Fundamental 1', 2.0:'Fundamental 2', 3.0:'Médio', 4.0:'Superior', 5.0:'Não se aplica', 9.0:'Ignorado'}, inplace=True)\n",
    "ax = df_esc.plot.bar(grid=True)\n",
    "ax.set_ylabel('Número de casos')\n",
    "ax.set_xlabel('Escolaridade')\n",
    "plt.xticks(rotation=90)\n",
    "plt.tight_layout()\n",
    "plt.savefig('../graficos/porcentagem_escolaridade_sivep.svg', dpi=300)"
   ]
  },
  {
   "cell_type": "code",
   "execution_count": 50,
   "metadata": {},
   "outputs": [
    {
     "data": {
      "text/html": [
       "<div>\n",
       "<style scoped>\n",
       "    .dataframe tbody tr th:only-of-type {\n",
       "        vertical-align: middle;\n",
       "    }\n",
       "\n",
       "    .dataframe tbody tr th {\n",
       "        vertical-align: top;\n",
       "    }\n",
       "\n",
       "    .dataframe thead th {\n",
       "        text-align: right;\n",
       "    }\n",
       "</style>\n",
       "<table border=\"1\" class=\"dataframe\">\n",
       "  <thead>\n",
       "    <tr style=\"text-align: right;\">\n",
       "      <th></th>\n",
       "      <th>CS_ESCOL_N</th>\n",
       "      <th>Porcentagem</th>\n",
       "    </tr>\n",
       "  </thead>\n",
       "  <tbody>\n",
       "    <tr>\n",
       "      <th>0</th>\n",
       "      <td>Ignorado</td>\n",
       "      <td>51.86%</td>\n",
       "    </tr>\n",
       "    <tr>\n",
       "      <th>1</th>\n",
       "      <td>Médio</td>\n",
       "      <td>16.04%</td>\n",
       "    </tr>\n",
       "    <tr>\n",
       "      <th>2</th>\n",
       "      <td>Fundamental 1</td>\n",
       "      <td>11.03%</td>\n",
       "    </tr>\n",
       "    <tr>\n",
       "      <th>3</th>\n",
       "      <td>Superior</td>\n",
       "      <td>8.77%</td>\n",
       "    </tr>\n",
       "    <tr>\n",
       "      <th>4</th>\n",
       "      <td>Fundamental 2</td>\n",
       "      <td>7.98%</td>\n",
       "    </tr>\n",
       "    <tr>\n",
       "      <th>5</th>\n",
       "      <td>Sem escolaridade</td>\n",
       "      <td>3.15%</td>\n",
       "    </tr>\n",
       "    <tr>\n",
       "      <th>6</th>\n",
       "      <td>Não se aplica</td>\n",
       "      <td>1.18%</td>\n",
       "    </tr>\n",
       "  </tbody>\n",
       "</table>\n",
       "</div>"
      ],
      "text/plain": [
       "         CS_ESCOL_N Porcentagem\n",
       "0          Ignorado      51.86%\n",
       "1             Médio      16.04%\n",
       "2     Fundamental 1      11.03%\n",
       "3          Superior       8.77%\n",
       "4     Fundamental 2       7.98%\n",
       "5  Sem escolaridade       3.15%\n",
       "6     Não se aplica       1.18%"
      ]
     },
     "execution_count": 50,
     "metadata": {},
     "output_type": "execute_result"
    }
   ],
   "source": [
    "df_aux = df_aux.transform(lambda x : x/sum(x))\n",
    "df_aux.sort_values(ascending=False, inplace=True)\n",
    "df_aux = df_aux.reset_index(name='Porcentagem')\n",
    "df_aux['Porcentagem'] = pd.Series([\"{0:.2f}%\".format(val * 100) for val in df_aux['Porcentagem']], index = df_aux.index)\n",
    "df_aux"
   ]
  },
  {
   "cell_type": "code",
   "execution_count": 51,
   "metadata": {},
   "outputs": [
    {
     "data": {
      "image/png": "[encoded data removed]",
      "text/plain": [
       "<Figure size 432x288 with 1 Axes>"
      ]
     },
     "metadata": {
      "needs_background": "light"
     },
     "output_type": "display_data"
    }
   ],
   "source": [
    "#se desconsiderar os ignorados\n",
    "df_esc2 = df_esc.drop('Ignorado')\n",
    "ax = df_esc2.plot.bar(grid=True)\n",
    "ax.set_ylabel('Número de casos')\n",
    "ax.set_xlabel('Escolaridade')\n",
    "plt.xticks(rotation=90)\n",
    "plt.tight_layout()\n",
    "plt.savefig('../graficos/porcentagem_escolaridade_sivep2.svg', dpi=300)"
   ]
  },
  {
   "cell_type": "markdown",
   "metadata": {},
   "source": [
    "## Análise de casos de covid por sexo"
   ]
  },
  {
   "cell_type": "code",
   "execution_count": 52,
   "metadata": {},
   "outputs": [
    {
     "data": {
      "text/html": [
       "<div>\n",
       "<style scoped>\n",
       "    .dataframe tbody tr th:only-of-type {\n",
       "        vertical-align: middle;\n",
       "    }\n",
       "\n",
       "    .dataframe tbody tr th {\n",
       "        vertical-align: top;\n",
       "    }\n",
       "\n",
       "    .dataframe thead th {\n",
       "        text-align: right;\n",
       "    }\n",
       "</style>\n",
       "<table border=\"1\" class=\"dataframe\">\n",
       "  <thead>\n",
       "    <tr style=\"text-align: right;\">\n",
       "      <th></th>\n",
       "      <th>DT_NOTIFIC</th>\n",
       "      <th>CS_SEXO</th>\n",
       "      <th>0</th>\n",
       "    </tr>\n",
       "  </thead>\n",
       "  <tbody>\n",
       "    <tr>\n",
       "      <th>0</th>\n",
       "      <td>2020-02-28</td>\n",
       "      <td>F</td>\n",
       "      <td>1</td>\n",
       "    </tr>\n",
       "    <tr>\n",
       "      <th>1</th>\n",
       "      <td>2020-02-29</td>\n",
       "      <td>F</td>\n",
       "      <td>1</td>\n",
       "    </tr>\n",
       "    <tr>\n",
       "      <th>2</th>\n",
       "      <td>2020-03-01</td>\n",
       "      <td>M</td>\n",
       "      <td>1</td>\n",
       "    </tr>\n",
       "    <tr>\n",
       "      <th>3</th>\n",
       "      <td>2020-03-02</td>\n",
       "      <td>M</td>\n",
       "      <td>1</td>\n",
       "    </tr>\n",
       "    <tr>\n",
       "      <th>4</th>\n",
       "      <td>2020-03-03</td>\n",
       "      <td>F</td>\n",
       "      <td>1</td>\n",
       "    </tr>\n",
       "    <tr>\n",
       "      <th>...</th>\n",
       "      <td>...</td>\n",
       "      <td>...</td>\n",
       "      <td>...</td>\n",
       "    </tr>\n",
       "    <tr>\n",
       "      <th>229</th>\n",
       "      <td>2020-06-14</td>\n",
       "      <td>M</td>\n",
       "      <td>246</td>\n",
       "    </tr>\n",
       "    <tr>\n",
       "      <th>230</th>\n",
       "      <td>2020-06-15</td>\n",
       "      <td>F</td>\n",
       "      <td>464</td>\n",
       "    </tr>\n",
       "    <tr>\n",
       "      <th>231</th>\n",
       "      <td>2020-06-15</td>\n",
       "      <td>M</td>\n",
       "      <td>572</td>\n",
       "    </tr>\n",
       "    <tr>\n",
       "      <th>232</th>\n",
       "      <td>2020-06-16</td>\n",
       "      <td>F</td>\n",
       "      <td>273</td>\n",
       "    </tr>\n",
       "    <tr>\n",
       "      <th>233</th>\n",
       "      <td>2020-06-16</td>\n",
       "      <td>M</td>\n",
       "      <td>380</td>\n",
       "    </tr>\n",
       "  </tbody>\n",
       "</table>\n",
       "<p>234 rows × 3 columns</p>\n",
       "</div>"
      ],
      "text/plain": [
       "    DT_NOTIFIC CS_SEXO    0\n",
       "0   2020-02-28       F    1\n",
       "1   2020-02-29       F    1\n",
       "2   2020-03-01       M    1\n",
       "3   2020-03-02       M    1\n",
       "4   2020-03-03       F    1\n",
       "..         ...     ...  ...\n",
       "229 2020-06-14       M  246\n",
       "230 2020-06-15       F  464\n",
       "231 2020-06-15       M  572\n",
       "232 2020-06-16       F  273\n",
       "233 2020-06-16       M  380\n",
       "\n",
       "[234 rows x 3 columns]"
      ]
     },
     "execution_count": 52,
     "metadata": {},
     "output_type": "execute_result"
    }
   ],
   "source": [
    "df_sexo = df_covid.groupby([df_covid.DT_NOTIFIC, df_covid.CS_SEXO]).size().reset_index()\n",
    "df_sexo"
   ]
  },
  {
   "cell_type": "code",
   "execution_count": 53,
   "metadata": {},
   "outputs": [
    {
     "data": {
      "image/png": "[encoded data removed]",
      "text/plain": [
       "<Figure size 432x288 with 1 Axes>"
      ]
     },
     "metadata": {
      "needs_background": "light"
     },
     "output_type": "display_data"
    }
   ],
   "source": [
    "ax = plt.axes()\n",
    "plt.plot(df_sexo[df_sexo['CS_SEXO'] == 'M']['DT_NOTIFIC'],df_sexo[df_sexo['CS_SEXO'] == 'M'][0], label='Masculino')\n",
    "plt.plot(df_sexo[df_sexo['CS_SEXO'] == 'F']['DT_NOTIFIC'],df_sexo[df_sexo['CS_SEXO'] == 'F'][0], label='Feminino')\n",
    "#plt.yscale('log')\n",
    "plt.legend()\n",
    "plt.xticks(rotation=20)\n",
    "ax.set_ylabel('Número de casos')\n",
    "ax.set_xlabel('Data')\n",
    "plt.savefig('../graficos/sexocont.svg', dpi=300)\n",
    "plt.savefig('../graficos/sexocont.png', dpi=300)\n",
    "plt.show()"
   ]
  },
  {
   "cell_type": "code",
   "execution_count": 54,
   "metadata": {},
   "outputs": [
    {
     "name": "stdout",
     "output_type": "stream",
     "text": [
      "480.14285714285717 631.9433962264151\n"
     ]
    }
   ],
   "source": [
    "media_m = df_sexo[df_sexo['CS_SEXO'] == 'M'].mean()[0]\n",
    "media_f = df_sexo[df_sexo['CS_SEXO'] == 'F'].mean()[0]\n",
    "print(media_f, media_m)"
   ]
  },
  {
   "cell_type": "markdown",
   "metadata": {},
   "source": [
    "## Análise de casos de covid por etnia\n",
    "É importante destacar que essa análise ainda não está normalizada. Por exemplo, provavelmente aparecem menos casos de pessoas indígenas e amarelas pois é uma parcela pequena da população braseileira comparada as etnias branca, preta e parda."
   ]
  },
  {
   "cell_type": "code",
   "execution_count": 55,
   "metadata": {},
   "outputs": [],
   "source": [
    "df_etnia = df_covid.groupby([df_covid.DT_NOTIFIC, df_covid.CS_RACA]).size().reset_index()\n",
    "df_etnia = df_etnia[df_etnia['CS_RACA'] != 9.0]"
   ]
  },
  {
   "cell_type": "code",
   "execution_count": 56,
   "metadata": {},
   "outputs": [
    {
     "data": {
      "image/png": "[encoded data removed]",
      "text/plain": [
       "<Figure size 432x288 with 1 Axes>"
      ]
     },
     "metadata": {
      "needs_background": "light"
     },
     "output_type": "display_data"
    }
   ],
   "source": [
    "etnias = {1:'Branca', 2:'Preta', 3:'Amarela', 4:'Parda', 5:'Indígena'}\n",
    "dicio = etnias\n",
    "data = df_etnia\n",
    "varx = 'DT_NOTIFIC'\n",
    "vary = 'CS_RACA'\n",
    "ax = plt.axes()\n",
    "for key in dicio:\n",
    "    plt.plot(data[data[vary] == key][varx], data[data[vary] == key][0], label=dicio[key])\n",
    "    \n",
    "ax.set_ylabel('Número de casos')\n",
    "ax.set_xlabel('Data')\n",
    "plt.xticks(rotation=20)\n",
    "plt.legend()\n",
    "plt.savefig('../graficos/etniacont.svg', dpi=300)\n",
    "plt.savefig('../graficos/etniacont.png', dpi=300)\n",
    "plt.show()"
   ]
  },
  {
   "cell_type": "markdown",
   "metadata": {},
   "source": [
    "Com os dados normalizados por uma taxa de 100 mil pessoas de cada etnia"
   ]
  },
  {
   "cell_type": "code",
   "execution_count": 57,
   "metadata": {},
   "outputs": [
    {
     "data": {
      "text/plain": [
       "Branca      91051646\n",
       "Preta       14517961\n",
       "Amarela      2084288\n",
       "Parda       82277333\n",
       "Indígena      817963\n",
       "Name: 0, dtype: int64"
      ]
     },
     "execution_count": 57,
     "metadata": {},
     "output_type": "execute_result"
    }
   ],
   "source": [
    "df_qtd = pd.read_csv('../dados/etniasbrasil.csv', sep=',', encoding='latin-1')\n",
    "df_qtd = df_qtd.rename(columns={'IndÃ­gena':'Indígena'})\n",
    "df_qtd = df_qtd.squeeze()\n",
    "df_qtd.head()\n"
   ]
  },
  {
   "cell_type": "code",
   "execution_count": 58,
   "metadata": {},
   "outputs": [
    {
     "data": {
      "text/html": [
       "<div>\n",
       "<style scoped>\n",
       "    .dataframe tbody tr th:only-of-type {\n",
       "        vertical-align: middle;\n",
       "    }\n",
       "\n",
       "    .dataframe tbody tr th {\n",
       "        vertical-align: top;\n",
       "    }\n",
       "\n",
       "    .dataframe thead th {\n",
       "        text-align: right;\n",
       "    }\n",
       "</style>\n",
       "<table border=\"1\" class=\"dataframe\">\n",
       "  <thead>\n",
       "    <tr style=\"text-align: right;\">\n",
       "      <th></th>\n",
       "      <th>DT_NOTIFIC</th>\n",
       "      <th>CS_RACA</th>\n",
       "      <th>0</th>\n",
       "    </tr>\n",
       "  </thead>\n",
       "  <tbody>\n",
       "    <tr>\n",
       "      <th>1</th>\n",
       "      <td>2020-03-01</td>\n",
       "      <td>2.0</td>\n",
       "      <td>0.006888</td>\n",
       "    </tr>\n",
       "    <tr>\n",
       "      <th>2</th>\n",
       "      <td>2020-03-02</td>\n",
       "      <td>1.0</td>\n",
       "      <td>0.001098</td>\n",
       "    </tr>\n",
       "    <tr>\n",
       "      <th>3</th>\n",
       "      <td>2020-03-03</td>\n",
       "      <td>4.0</td>\n",
       "      <td>0.001215</td>\n",
       "    </tr>\n",
       "    <tr>\n",
       "      <th>4</th>\n",
       "      <td>2020-03-04</td>\n",
       "      <td>1.0</td>\n",
       "      <td>0.001098</td>\n",
       "    </tr>\n",
       "    <tr>\n",
       "      <th>6</th>\n",
       "      <td>2020-03-05</td>\n",
       "      <td>4.0</td>\n",
       "      <td>0.001215</td>\n",
       "    </tr>\n",
       "  </tbody>\n",
       "</table>\n",
       "</div>"
      ],
      "text/plain": [
       "  DT_NOTIFIC  CS_RACA         0\n",
       "1 2020-03-01      2.0  0.006888\n",
       "2 2020-03-02      1.0  0.001098\n",
       "3 2020-03-03      4.0  0.001215\n",
       "4 2020-03-04      1.0  0.001098\n",
       "6 2020-03-05      4.0  0.001215"
      ]
     },
     "execution_count": 58,
     "metadata": {},
     "output_type": "execute_result"
    }
   ],
   "source": [
    "etnias = {1:'Branca', 2:'Preta', 3:'Amarela', 4:'Parda', 5:'Indígena'}\n",
    "def normalizar(row):\n",
    "    return ((row[0] * 100000) / df_qtd[etnias[row['CS_RACA']]])\n",
    "\n",
    "df_etnia[0] = df_etnia.apply(normalizar, axis=1)\n",
    "df_etnia.head()"
   ]
  },
  {
   "cell_type": "code",
   "execution_count": 59,
   "metadata": {},
   "outputs": [
    {
     "data": {
      "image/png": "[encoded data removed]",
      "text/plain": [
       "<Figure size 432x288 with 1 Axes>"
      ]
     },
     "metadata": {
      "needs_background": "light"
     },
     "output_type": "display_data"
    }
   ],
   "source": [
    "etnias = {1:'Branca', 2:'Preta', 3:'Amarela', 4:'Parda', 5:'Indígena'}\n",
    "dicio = etnias\n",
    "data = df_etnia\n",
    "varx = 'DT_NOTIFIC'\n",
    "vary = 'CS_RACA'\n",
    "ax = plt.axes()\n",
    "for key in dicio:\n",
    "    plt.plot(data[data[vary] == key][varx], data[data[vary] == key][0], label=dicio[key])\n",
    "    \n",
    "ax.set_ylabel('Número de casos')\n",
    "ax.set_xlabel('Data')\n",
    "plt.xticks(rotation=20)\n",
    "plt.legend()\n",
    "#plt.savefig('../graficos/etniacont.svg', dpi=300)\n",
    "plt.savefig('../graficos/etnia_cont_normalizado.png', dpi=300)\n",
    "plt.show()"
   ]
  },
  {
   "cell_type": "markdown",
   "metadata": {},
   "source": [
    "## Análise de casos por escolaridade\n",
    "Para melhor visualização, juntou-se pessoas com fundamental 1 e 2"
   ]
  },
  {
   "cell_type": "code",
   "execution_count": 60,
   "metadata": {},
   "outputs": [
    {
     "name": "stderr",
     "output_type": "stream",
     "text": [
      "<ipython-input-60-55df95ba710f>:2: SettingWithCopyWarning: \n",
      "A value is trying to be set on a copy of a slice from a DataFrame.\n",
      "Try using .loc[row_indexer,col_indexer] = value instead\n",
      "\n",
      "See the caveats in the documentation: https://pandas.pydata.org/pandas-docs/stable/user_guide/indexing.html#returning-a-view-versus-a-copy\n",
      "  df_esc['CS_ESCOL_N'] = df_esc.CS_ESCOL_N.replace({2:1}, inplace=False)\n"
     ]
    }
   ],
   "source": [
    "df_esc = df_covid[['CS_ESCOL_N', 'DT_NOTIFIC']]\n",
    "df_esc['CS_ESCOL_N'] = df_esc.CS_ESCOL_N.replace({2:1}, inplace=False)\n",
    "df_esc = df_esc.groupby([df_esc.CS_ESCOL_N, df_esc.DT_NOTIFIC]).size().reset_index()"
   ]
  },
  {
   "cell_type": "code",
   "execution_count": 61,
   "metadata": {},
   "outputs": [
    {
     "data": {
      "image/png": "[encoded data removed]",
      "text/plain": [
       "<Figure size 432x288 with 1 Axes>"
      ]
     },
     "metadata": {
      "needs_background": "light"
     },
     "output_type": "display_data"
    }
   ],
   "source": [
    "esc = {0:'Sem escolaridade', 1:'Fundamental', 3:'Médio', 4:'Superior'}\n",
    "dicio = esc\n",
    "data = df_esc\n",
    "varx = 'DT_NOTIFIC'\n",
    "vary = 'CS_ESCOL_N'\n",
    "ax = plt.axes()\n",
    "for key in esc:\n",
    "    plt.plot(data[data[vary] == key][varx], data[data[vary] == key][0], label=dicio[key])\n",
    "\n",
    "ax.set_ylabel('Número de casos')\n",
    "ax.set_xlabel('Data')\n",
    "plt.xticks(rotation=20)\n",
    "plt.legend()\n",
    "plt.savefig('../graficos/esccont.svg', dpi=300)\n",
    "plt.savefig('../graficos/esccont.png', dpi=300)\n",
    "plt.show()"
   ]
  },
  {
   "cell_type": "markdown",
   "metadata": {},
   "source": [
    "## Análise das distribuições de idades"
   ]
  },
  {
   "cell_type": "code",
   "execution_count": null,
   "metadata": {},
   "outputs": [],
   "source": []
  },
  {
   "cell_type": "code",
   "execution_count": null,
   "metadata": {},
   "outputs": [],
   "source": []
  },
  {
   "cell_type": "code",
   "execution_count": null,
   "metadata": {},
   "outputs": [],
   "source": []
  }
 ],
 "metadata": {
  "kernelspec": {
   "display_name": "Python 3",
   "language": "python",
   "name": "python3"
  },
  "language_info": {
   "codemirror_mode": {
    "name": "ipython",
    "version": 3
   },
   "file_extension": ".py",
   "mimetype": "text/x-python",
   "name": "python",
   "nbconvert_exporter": "python",
   "pygments_lexer": "ipython3",
   "version": "3.8.3"
  }
 },
 "nbformat": 4,
 "nbformat_minor": 4
}
